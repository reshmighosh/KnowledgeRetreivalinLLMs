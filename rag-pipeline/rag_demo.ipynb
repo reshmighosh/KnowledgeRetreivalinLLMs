{
 "cells": [
  {
   "cell_type": "code",
   "execution_count": 1,
   "metadata": {},
   "outputs": [
    {
     "name": "stderr",
     "output_type": "stream",
     "text": [
      "/home/rseetharaman_umass_edu/.conda/envs/rome/lib/python3.9/site-packages/scipy/__init__.py:146: UserWarning: A NumPy version >=1.16.5 and <1.23.0 is required for this version of SciPy (detected version 1.26.4\n",
      "  warnings.warn(f\"A NumPy version >={np_minversion} and <{np_maxversion}\"\n",
      "/home/rseetharaman_umass_edu/.conda/envs/rome/lib/python3.9/site-packages/transformers/utils/generic.py:485: UserWarning: torch.utils._pytree._register_pytree_node is deprecated. Please use torch.utils._pytree.register_pytree_node instead.\n",
      "  _torch_pytree._register_pytree_node(\n",
      "/home/rseetharaman_umass_edu/.conda/envs/rome/lib/python3.9/site-packages/transformers/utils/generic.py:342: UserWarning: torch.utils._pytree._register_pytree_node is deprecated. Please use torch.utils._pytree.register_pytree_node instead.\n",
      "  _torch_pytree._register_pytree_node(\n",
      "/home/rseetharaman_umass_edu/.conda/envs/rome/lib/python3.9/site-packages/transformers/utils/generic.py:342: UserWarning: torch.utils._pytree._register_pytree_node is deprecated. Please use torch.utils._pytree.register_pytree_node instead.\n",
      "  _torch_pytree._register_pytree_node(\n"
     ]
    }
   ],
   "source": [
    "from ragatouille import RAGPretrainedModel\n",
    "import json\n",
    "from tqdm import tqdm \n",
    "import jsonlines"
   ]
  },
  {
   "cell_type": "code",
   "execution_count": 2,
   "metadata": {},
   "outputs": [],
   "source": [
    "RAG = RAGPretrainedModel.from_index(\".ragatouille/colbert/indexes/wiki-knowns-1000-full\")"
   ]
  },
  {
   "cell_type": "code",
   "execution_count": 3,
   "metadata": {},
   "outputs": [
    {
     "name": "stdout",
     "output_type": "stream",
     "text": [
      "Loading searcher for index wiki-knowns-1000-full for the first time... This may take a few seconds\n",
      "[Apr 05, 16:10:56] #> Loading codec...\n",
      "[Apr 05, 16:10:56] Loading decompress_residuals_cpp extension (set COLBERT_LOAD_TORCH_EXTENSION_VERBOSE=True for more info)...\n",
      "[Apr 05, 16:11:47] Loading packbits_cpp extension (set COLBERT_LOAD_TORCH_EXTENSION_VERBOSE=True for more info)...\n",
      "[Apr 05, 16:12:28] #> Loading IVF...\n",
      "[Apr 05, 16:12:28] #> Loading doclens...\n"
     ]
    },
    {
     "name": "stderr",
     "output_type": "stream",
     "text": [
      "100%|██████████| 2/2 [00:00<00:00, 224.38it/s]"
     ]
    },
    {
     "name": "stdout",
     "output_type": "stream",
     "text": [
      "[Apr 05, 16:12:28] #> Loading codes and residuals...\n"
     ]
    },
    {
     "name": "stderr",
     "output_type": "stream",
     "text": [
      "\n",
      "100%|██████████| 2/2 [00:00<00:00,  7.11it/s]\n"
     ]
    },
    {
     "name": "stdout",
     "output_type": "stream",
     "text": [
      "Searcher loaded!\n",
      "\n",
      "#> QueryTokenizer.tensorize(batch_text[0], batch_background[0], bsize) ==\n",
      "#> Input: . Who owns Beats electronics ?, \t\t True, \t\t None\n",
      "#> Output IDs: torch.Size([32]), tensor([  101,     1,  2040,  8617, 10299,  8139,  1029,   102,   103,   103,\n",
      "          103,   103,   103,   103,   103,   103,   103,   103,   103,   103,\n",
      "          103,   103,   103,   103,   103,   103,   103,   103,   103,   103,\n",
      "          103,   103], device='cuda:0')\n",
      "#> Output Mask: torch.Size([32]), tensor([1, 1, 1, 1, 1, 1, 1, 1, 0, 0, 0, 0, 0, 0, 0, 0, 0, 0, 0, 0, 0, 0, 0, 0,\n",
      "        0, 0, 0, 0, 0, 0, 0, 0], device='cuda:0')\n",
      "\n"
     ]
    },
    {
     "data": {
      "text/plain": [
       "[{'content': 'Beats Music was a subscription-based Digital music store streaming service owned by the Beats Electronics division of Apple Inc. The service combined algorithm-based personalization with expert music suggestions from a variety of sources.\\nDevelopment began in 2012 under the name \"Daisy\". The service built upon Beats\\' consumer electronics line and its 2012 acquisition of the similar service MOG. The service was launched in the United States on January 21, 2014.\\nBeats Music was acquired by Apple Inc. as part of its purchase of Beats Electronics in May 2014. Beats Music stopped accepting new subscriptions when Apple Music launched on June 30, 2015. Subscribers were moved to the new service. Beats Music was completely discontinued on November 30, 2015.',\n",
       "  'score': 24.203125,\n",
       "  'rank': 1,\n",
       "  'document_id': 'Beats_Music',\n",
       "  'passage_id': 16,\n",
       "  'document_metadata': {'entity': 'knowns-entity', 'source': 'wikipedia'}},\n",
       " {'content': '== Apple Music integration ==\\n\\nFormer Apple CEO Steve Jobs was previously opposed to the idea of music subscription services. Through its purchase of audio equipment maker Beats Electronics in 2014, Apple gained ownership of its own service Beats Music. With Beats Music CEO Ian Rogers also becoming responsible for the ad-supported iTunes Radio service, Business Insider later reported that Apple was planning to merge the two services. Apple also hired noted British radio DJ Zane Lowe to serve as a music curator.After a period of rumors and anticipation, the Apple Music music subscription service was announced at Apple\\'s June 2015 Worldwide Developers Conference. The \"one more thing\" reveal had been confirmed by Sony Music CEO Doug Morris and The Wall Street Journal reports prior to the announcement. Apple Music launched on June 30, 2015, and Beats Music was later discontinued, with all subscribers being migrated to Apple Music.\\n\\n\\n== References ==',\n",
       "  'score': 23.5625,\n",
       "  'rank': 2,\n",
       "  'document_id': 'iTunes_Radio',\n",
       "  'passage_id': 15032,\n",
       "  'document_metadata': {'entity': 'knowns-entity', 'source': 'wikipedia'}},\n",
       " {'content': '== Personnel ==\\nJimmy Iovine – Co-Founder and Chairman of the Board of Beats Electronics and Beats Music\\nDr. Dre – Co-Founder of Beats Electronics and Beats Music\\nLuke Wood – President of Beats Electronics and Vice-Chairman of Beats Music\\nMatthew Costello – Chief Operating Officer of Beats Electronics\\nIan Rogers – Chief Executive Officer of Beats Music\\nBozoma Saint John – Senior Vice President, Head of Global Marketing, Beats Music\\nTrent Reznor – Chief Creative Officer of Beats Music\\nOla Sars - Co-Founder and Chief Operating Officer of Beats Music\\n\\n\\n== References ==\\n\\n\\n== External links ==\\nOfficial website',\n",
       "  'score': 22.921875,\n",
       "  'rank': 3,\n",
       "  'document_id': 'Beats_Music',\n",
       "  'passage_id': 24,\n",
       "  'document_metadata': {'entity': 'knowns-entity', 'source': 'wikipedia'}},\n",
       " {'content': 'In February 2014, Beats Music reached a licensing deal with the Merlin Network, a group representing a number of major independent record labels. While no financial details were disclosed, Beats did indicate that it would pay the labels at the same rates as the major labels.On March 4, 2014, Beats Music acquired Topspin Media, a company which deals in the monetization of music and building relationships between musicians and their fans. Beats Music CEO Ian Rogers had left Topspin to join the service.\\n\\n\\n=== Apple acquisition and shutdown ===\\nOn May 28, 2014, Apple Inc. announced it was buying both Beats Electronics and Beats Music for US$3 billion in a cash and stock deal. The Wall Street Journal reported that Apple had valued Beats Music at \"slightly less than $500 million.\" Following the purchase, Dr.',\n",
       "  'score': 22.6875,\n",
       "  'rank': 4,\n",
       "  'document_id': 'Beats_Music',\n",
       "  'passage_id': 19,\n",
       "  'document_metadata': {'entity': 'knowns-entity', 'source': 'wikipedia'}},\n",
       " {'content': \"In 2013, he surpassed Bryant as the highest paid basketball player in the world, with earnings of $56.5 million. In 2014, James realized a profit of more than $30 million as part of Apple's acquisition of Beats Electronics; he had originally struck a deal to get a small stake in the company at its inception in exchange for promoting its headphones. In 2015, he was ranked the sixth highest earning sportsperson, and third highest in 2016 (after Cristiano Ronaldo and Lionel Messi). James has stated that he would like to own an NBA team in the future, albeit in a hands-off capacity.\",\n",
       "  'score': 22.421875,\n",
       "  'rank': 5,\n",
       "  'document_id': 'LeBron_James',\n",
       "  'passage_id': 19984,\n",
       "  'document_metadata': {'entity': 'knowns-entity', 'source': 'wikipedia'}},\n",
       " {'content': '== History ==\\nOn July 2, 2012, Beats announced it had acquired the online music service MOG, reportedly paying between $10 million and $16 million. Beats officials said this the acquisition was part of the company\\'s goal to develop a \"truly end-to-end music experience.\" The acquisition did not include the company\\'s blog and advertising network, the MOG Music Network, which was sold in a separate transaction to the broadcasting company Townsquare Media in August 2012. MOG initially indicated that it would continue to operate independently with no immediate change in service.A few months later in December 2012, the company hired Trent Reznor of the band Nine Inch Nails to serve as its Chief Creative Officer, and to help develop a new music service codenamed \"Daisy\".',\n",
       "  'score': 20.015625,\n",
       "  'rank': 6,\n",
       "  'document_id': 'Beats_Music',\n",
       "  'passage_id': 17,\n",
       "  'document_metadata': {'entity': 'knowns-entity', 'source': 'wikipedia'}},\n",
       " {'content': 'The Wall Street Journal reported that Apple had valued Beats Music at \"slightly less than $500 million.\" Following the purchase, Dr. Dre and Iovine were hired as executive employees, and worked at Apple for years afterward; Beats Music CEO Ian Rogers would oversee both Beats Music and Apple\\'s ad-supported iTunes Radio service.It was later reported by Business Insider that Apple was planning to merge the two services. Apple had hired noted British radio DJ Zane Lowe to serve as a music curator. It was also reported that, in negotiations with record labels for the new service, that Apple had been attempting to encourage record labels to pull their content from the free, ad-supported tiers of competing services such as Spotify in order to drive adoption of the new service, and offered an incentive to Universal Music Group to pull its content from YouTube.',\n",
       "  'score': 19.4375,\n",
       "  'rank': 7,\n",
       "  'document_id': 'Beats_Music',\n",
       "  'passage_id': 20,\n",
       "  'document_metadata': {'entity': 'knowns-entity', 'source': 'wikipedia'}},\n",
       " {'content': 'Alan Michael Sugar, Baron Sugar (born 24 March 1947) is a British business magnate, media personality, author, politician and political adviser. In 1968, he started what would later become his largest business venture, consumer electronics company Amstrad. In 2007, he sold his remaining interest in the company in a deal to BSkyB for £125 million.Sugar was the chairman and part-owner of Tottenham Hotspur Football Club from 1991 to 2001, selling his remaining stake in the club in 2007 as well, for £25 million. He is also known for being the host and \"Boss\" for the BBC reality competition series The Apprentice, which has been broadcast every year, with the exception of 2020 and 2021, since 2005.',\n",
       "  'score': 17.171875,\n",
       "  'rank': 8,\n",
       "  'document_id': 'Alan_Sugar',\n",
       "  'passage_id': 21571,\n",
       "  'document_metadata': {'entity': 'knowns-entity', 'source': 'wikipedia'}},\n",
       " {'content': 'As opposed to its competitors such as Spotify, in Daisy the plan was to use \"personalization\" based on user listening habits in combination with expert music curators to suggest tracks. The company initially announced a launch by late 2013. The company had hired music industry members, radio personalities, and songwriters to serve as a music curation team for the service, led by former IHeartMedia executive and KIIS-FM music director Julie Pilat.In August 2013, a landing page was discovered for Daisy under its final name, \"Beats Music\". The service was officially unveiled in January 2014, for a launch in the United States on January 21. In February 2014, Beats Music reached a licensing deal with the Merlin Network, a group representing a number of major independent record labels.',\n",
       "  'score': 17.109375,\n",
       "  'rank': 9,\n",
       "  'document_id': 'Beats_Music',\n",
       "  'passage_id': 18,\n",
       "  'document_metadata': {'entity': 'knowns-entity', 'source': 'wikipedia'}},\n",
       " {'content': 'He starred in a 2014 advert for Beats headphones with other global football stars including Neymar and Luis Suárez, with the theme of \"The Game Before the Game\" and the players pre-game ritual of listening to music.Henry featured on the front cover of the editions of EA Sports\\' FIFA video game series from FIFA 2001 to FIFA 2005. He was included as an icon to the Ultimate Team in FIFA 18. He was also a cover star for the Konami Pro Evolution Soccer video game series, and was featured on the covers of Pro Evolution Soccer 4 to Pro Evolution Soccer 6.\\n\\n\\n=== Other interests ===\\nIn August 2022, Serie B club Como announced Henry was joining them as an investor and minority stakeholder.\\n\\n\\n== Career statistics ==\\n\\n\\n=== Club ===\\n\\n\\n=== International ===\\n\\nNote',\n",
       "  'score': 16.421875,\n",
       "  'rank': 10,\n",
       "  'document_id': 'Thierry_Henry',\n",
       "  'passage_id': 4097,\n",
       "  'document_metadata': {'entity': 'knowns-entity', 'source': 'wikipedia'}}]"
      ]
     },
     "execution_count": 3,
     "metadata": {},
     "output_type": "execute_result"
    }
   ],
   "source": [
    "RAG.search(query=\"Who owns Beats electronics ?\")"
   ]
  },
  {
   "cell_type": "code",
   "execution_count": 5,
   "metadata": {},
   "outputs": [
    {
     "data": {
      "text/plain": [
       "'Vinson Massif () is a large mountain massif in Antarctica that is 21 km (13 mi) long and 13 km (8 mi) wide and lies within the Sentinel Range of the Ellsworth Mountains. It overlooks the Ronne Ice Shelf near the base of the Antarctic Peninsula. The massif is located about 1,200 kilometres (750 mi) from the South Pole. Vinson Massif was discovered in January 1958 by U.S. Navy aircraft. In 1961, the Vinson Massif was named by the Advisory Committee on Antarctic Names (US-ACAN), after Carl G. Vinson, United States congressman from the state of Georgia, for his support for Antarctic exploration.'"
      ]
     },
     "execution_count": 5,
     "metadata": {},
     "output_type": "execute_result"
    }
   ],
   "source": [
    "result = RAG.search(\"Vinson Massif is located in the continent of\")\n",
    "result[0]['content']"
   ]
  },
  {
   "cell_type": "code",
   "execution_count": 5,
   "metadata": {},
   "outputs": [
    {
     "data": {
      "text/plain": [
       "[{'content': 'The Massachusetts Institute of Technology (MIT) is a private land-grant research university in Cambridge, Massachusetts. Established in 1861, MIT has played a significant role in the development of many areas of modern technology and science. \\nFounded in response to the increasing industrialization of the United States, MIT adopted a European polytechnic university model and stressed laboratory instruction in applied science and engineering. MIT is one of three private land-grant universities in the United States, the others being Cornell University and Tuskegee University. The institute has an urban campus that extends more than a mile (1.6 km) alongside the Charles River, and encompasses a number of major off-campus facilities such as the MIT Lincoln Laboratory, the Bates Center, and the Haystack Observatory, as well as affiliated laboratories such as the Broad and Whitehead Institutes.',\n",
       "  'score': 25.921875,\n",
       "  'rank': 1,\n",
       "  'document_id': 'Massachusetts_Institute_of_Technology',\n",
       "  'passage_id': 1077,\n",
       "  'document_metadata': {'entity': 'knowns-entity', 'source': 'wikipedia'}},\n",
       " {'content': \"== Campus ==\\n\\nMIT's 166-acre (67.2 ha) campus in the city of Cambridge spans approximately a mile along the north side of the Charles River basin. The campus is divided roughly in half by Massachusetts Avenue, with most dormitories and student life facilities to the west and most academic buildings to the east. The bridge closest to MIT is the Harvard Bridge, which is known for being marked off in a non-standard unit of length – the smoot.The Kendall/MIT MBTA Red Line station is located on the northeastern edge of the campus, in Kendall Square. The Cambridge neighborhoods surrounding MIT are a mixture of high tech companies occupying both modern office and rehabilitated industrial buildings, as well as socio-economically diverse residential neighborhoods.\",\n",
       "  'score': 25.59375,\n",
       "  'rank': 2,\n",
       "  'document_id': 'Massachusetts_Institute_of_Technology',\n",
       "  'passage_id': 1100,\n",
       "  'document_metadata': {'entity': 'knowns-entity', 'source': 'wikipedia'}},\n",
       " {'content': 'East Campus has gained a reputation as a thriving counterculture.\" MIT also has 5 dormitories for single graduate students and 2 apartment buildings on campus for married student families.MIT has an active Greek and co-op housing system, including thirty-six fraternities, sororities, and independent living groups (FSILGs). As of 2015, 98% of all undergraduates lived in MIT-affiliated housing; 54% of the men participated in fraternities and 20% of the women were involved in sororities. Most FSILGs are located across the river in Back Bay near where MIT was founded, and there is also a cluster of fraternities on MIT\\'s West Campus that face the Charles River Basin.',\n",
       "  'score': 23.90625,\n",
       "  'rank': 3,\n",
       "  'document_id': 'Massachusetts_Institute_of_Technology',\n",
       "  'passage_id': 1112,\n",
       "  'document_metadata': {'entity': 'knowns-entity', 'source': 'wikipedia'}},\n",
       " {'content': \"Most FSILGs are located across the river in Back Bay near where MIT was founded, and there is also a cluster of fraternities on MIT's West Campus that face the Charles River Basin. After the 1997 alcohol-related death of Scott Krueger, a new pledge at the Phi Gamma Delta fraternity, MIT required all freshmen to live in the dormitory system starting in 2002. Because FSILGs had previously housed as many as 300 freshmen off-campus, the new policy could not be implemented until Simmons Hall opened in that year.In 2013–2014, MIT abruptly closed and then demolished undergrad dorm Bexley Hall, citing extensive water damage that made repairs infeasible. In 2017, MIT shut down Senior House after a century of service as an undergrad dorm.\",\n",
       "  'score': 23.734375,\n",
       "  'rank': 4,\n",
       "  'document_id': 'Massachusetts_Institute_of_Technology',\n",
       "  'passage_id': 1113,\n",
       "  'document_metadata': {'entity': 'knowns-entity', 'source': 'wikipedia'}},\n",
       " {'content': 'The Cambridge neighborhoods surrounding MIT are a mixture of high tech companies occupying both modern office and rehabilitated industrial buildings, as well as socio-economically diverse residential neighborhoods. In early 2016, MIT presented its updated Kendall Square Initiative to the City of Cambridge, with plans for mixed-use educational, retail, residential, startup incubator, and office space in a dense high-rise transit-oriented development plan. The MIT Museum has moved immediately adjacent to a Kendall Square subway entrance, joining the List Visual Arts Center on the eastern end of the campus.Each building at MIT has a number (possibly preceded by a W, N, E, or NW) designation, and most have a name as well. Typically, academic and office buildings are referred to primarily by number while residence halls are referred to by name.',\n",
       "  'score': 22.8125,\n",
       "  'rank': 5,\n",
       "  'document_id': 'Massachusetts_Institute_of_Technology',\n",
       "  'passage_id': 1101,\n",
       "  'document_metadata': {'entity': 'knowns-entity', 'source': 'wikipedia'}},\n",
       " {'content': 'MIT also has a long-term partnership with Imperial College London, for both student exchanges and research collaboration. More modest cross-registration programs have been established with Boston University, Brandeis University, Tufts University, Massachusetts College of Art, and the School of the Museum of Fine Arts, Boston.MIT maintains substantial research and faculty ties with independent research organizations in the Boston area, such as the Charles Stark Draper Laboratory, the Whitehead Institute for Biomedical Research, and the Woods Hole Oceanographic Institution.',\n",
       "  'score': 22.734375,\n",
       "  'rank': 6,\n",
       "  'document_id': 'Massachusetts_Institute_of_Technology',\n",
       "  'passage_id': 1134,\n",
       "  'document_metadata': {'entity': 'knowns-entity', 'source': 'wikipedia'}},\n",
       " {'content': 'A 1999 report, met by promises of change by President Charles Vest, found that senior female faculty in the School of Science were often marginalized, and in return for equal professional accomplishments received reduced \"salary, space, awards, resources, and response to outside offers\".As of 2017, MIT was the second-largest employer in the city of Cambridge. Based on feedback from employees, MIT was ranked No. 7 as a place to work, among US colleges and universities as of March 2013. Surveys cited a \"smart\", \"creative\", \"friendly\" environment, noting that the work-life balance tilts towards a \"strong work ethic\" but complaining about \"low pay\" compared to an industry position.',\n",
       "  'score': 22.453125,\n",
       "  'rank': 7,\n",
       "  'document_id': 'Massachusetts_Institute_of_Technology',\n",
       "  'passage_id': 1171,\n",
       "  'document_metadata': {'entity': 'knowns-entity', 'source': 'wikipedia'}},\n",
       " {'content': 'Despite diminishing government financial support over the past quarter century, MIT launched several successful development campaigns to significantly expand the campus: new dormitories and athletics buildings on west campus; the Tang Center for Management Education; several buildings in the northeast corner of campus supporting research into biology, brain and cognitive sciences, genomics, biotechnology, and cancer research; and a number of new \"backlot\" buildings on Vassar Street including the Stata Center. Construction on campus in the 2000s included expansions of the Media Lab, the Sloan School\\'s eastern campus, and graduate residences in the northwest.',\n",
       "  'score': 22.390625,\n",
       "  'rank': 8,\n",
       "  'document_id': 'Massachusetts_Institute_of_Technology',\n",
       "  'passage_id': 1094,\n",
       "  'document_metadata': {'entity': 'knowns-entity', 'source': 'wikipedia'}},\n",
       " {'content': \"There would be at least six attempts to absorb MIT into Harvard. In its cramped Back Bay location, MIT could not afford to expand its overcrowded facilities, driving a desperate search for a new campus and funding. Eventually, the MIT Corporation approved a formal agreement to merge with Harvard, over the vehement objections of MIT faculty, students, and alumni. However, a 1917 decision by the Massachusetts Supreme Judicial Court effectively put an end to the merger scheme.\\nIn 1916, the MIT administration and the MIT charter crossed the Charles River on the ceremonial barge Bucentaur built for the occasion, to signify MIT's move to a spacious new campus largely consisting of filled land on a one mile-long (1.6 km) tract along the Cambridge side of the Charles River.\",\n",
       "  'score': 22.328125,\n",
       "  'rank': 9,\n",
       "  'document_id': 'Massachusetts_Institute_of_Technology',\n",
       "  'passage_id': 1083,\n",
       "  'document_metadata': {'entity': 'knowns-entity', 'source': 'wikipedia'}},\n",
       " {'content': 'MIT ultimately prevailed when the Justice Department dropped the case in 1994.\\nMIT\\'s proximity to Harvard University (\"the other school up the river\") has led to a substantial number of research collaborations such as the Harvard-MIT Division of Health Sciences and Technology and the Broad Institute. In addition, students at the two schools can cross-register for credits toward their own school\\'s degrees without any additional fees. A cross-registration program between MIT and Wellesley College has also existed since 1969, and in 2002 the Cambridge–MIT Institute launched an undergraduate exchange program between MIT and the University of Cambridge. MIT also has a long-term partnership with Imperial College London, for both student exchanges and research collaboration.',\n",
       "  'score': 22.015625,\n",
       "  'rank': 10,\n",
       "  'document_id': 'Massachusetts_Institute_of_Technology',\n",
       "  'passage_id': 1133,\n",
       "  'document_metadata': {'entity': 'knowns-entity', 'source': 'wikipedia'}}]"
      ]
     },
     "execution_count": 5,
     "metadata": {},
     "output_type": "execute_result"
    }
   ],
   "source": [
    "RAG.search(query=\"MIT is located in ?\")"
   ]
  },
  {
   "cell_type": "code",
   "execution_count": 6,
   "metadata": {},
   "outputs": [
    {
     "data": {
      "text/plain": [
       "[{'content': '== Chipsets ==\\nLGA 775 was the last Intel socket for desktops for which third-party companies manufactured chipsets. Nvidia was the last third-party manufacturer of LGA 775 chipsets (its final product was MCP7A family, marketed as GeForce 9300/9400, launched in October 2008), as other third-parties discontinued their products earlier. All chipsets for superseding sockets were exclusively designed and manufactured by Intel, a practice later also adopted by AMD when they first launched APUs in 2011 (Socket AM3+ processors, also launched in 2011, were usually paired with motherboard with AMD chipsets, but some motherboards using third-party chipsets were also manufactured, usually with Nvidia chipsets, as the Socket AM3+ design was directly extended from the earlier Socket AM3 design).\\n\\n\\n=== Intel ===',\n",
       "  'score': 21.46875,\n",
       "  'rank': 1,\n",
       "  'document_id': 'LGA_775',\n",
       "  'passage_id': 2520,\n",
       "  'document_metadata': {'entity': 'knowns-entity', 'source': 'wikipedia'}},\n",
       " {'content': 'LGA 775 (land grid array 775), also known as Socket T, is an Intel desktop CPU socket. Unlike PGA CPU sockets, such as its predecessor Socket 478, LGA 775 has no socket holes; instead, it has 775 protruding pins which touch contact points on the underside of the processor (CPU).Intel started selling LGA 775 (Socket T) CPUs with the 64-bit version of their 90 nm \"Prescott\"-based Pentium 4 HT.The socket had an unusually long life span, lasting 7 years until the last processors supporting it ceased production in 2011. The socket was superseded by the LGA 1156 (Socket H) and LGA 1366 (Socket B) sockets.',\n",
       "  'score': 20.078125,\n",
       "  'rank': 2,\n",
       "  'document_id': 'LGA_775',\n",
       "  'passage_id': 2518,\n",
       "  'document_metadata': {'entity': 'knowns-entity', 'source': 'wikipedia'}},\n",
       " {'content': 'LGA 775 Prescott CPUs use a rating system, labeling them as the 5xx series (Celeron Ds are the 3xx series, while Pentium Ms are the 7xx series). The LGA 775 version of the E-series uses model numbers 5x0 (520–560), and the LGA 775 version of the A-series uses model numbers 5x5 and 5x9 (505–519). The fastest, the 570J and 571, is clocked at 3.8 GHz. Plans to mass-produce a 4 GHz Pentium 4 were cancelled by Intel in favor of dual core processors, although some European retailers claimed to be selling a Pentium 4 580, clocked at 4 GHz.',\n",
       "  'score': 19.34375,\n",
       "  'rank': 3,\n",
       "  'document_id': 'Pentium_4',\n",
       "  'passage_id': 23083,\n",
       "  'document_metadata': {'entity': 'knowns-entity', 'source': 'wikipedia'}},\n",
       " {'content': '== LGA 775 processors ==\\n(Note: Some of the processors listed here might not work on newer Intel based chipsets; see \"LGA 775 compatibility\" below.)  \\n\\nPentium 4\\nPentium 4 Extreme Edition\\nPentium D\\nCeleron/Celeron D\\nPentium Dual-Core\\nPentium Extreme Edition\\nCore 2 Duo/Core 2 Quad\\nCore 2 Extreme\\n\\n\\n== Heatsink design ==\\nFor LGA 775, the distance between the screw-holes for the heatsink is 72 mm. Such heat-sinks are not interchangeable with heatsinks for sockets that have a distance of 75 mm, such as LGA 1156, LGA 1155, LGA 1150, LGA 1151 and LGA 1200.',\n",
       "  'score': 18.59375,\n",
       "  'rank': 4,\n",
       "  'document_id': 'LGA_775',\n",
       "  'passage_id': 2519,\n",
       "  'document_metadata': {'entity': 'knowns-entity', 'source': 'wikipedia'}},\n",
       " {'content': 'It was fabricated in a 90 nm process with seven levels of copper interconnect. The process has features such as strained silicon transistors and Low-κ carbon-doped silicon oxide (CDO) dielectric, which is also known as organosilicate glass (OSG). The Prescott was first fabricated at the D1C development fab and was later moved to F11X production fab.Originally, Intel released two Prescott lines on Socket 478: the E-series, with an 800 MT/s FSB and Hyper-Threading support, and the low-end A-series, with a 533 MT/s FSB and Hyper-Threading disabled. LGA 775 Prescott CPUs use a rating system, labeling them as the 5xx series (Celeron Ds are the 3xx series, while Pentium Ms are the 7xx series).',\n",
       "  'score': 18.5625,\n",
       "  'rank': 5,\n",
       "  'document_id': 'Pentium_4',\n",
       "  'passage_id': 23082,\n",
       "  'document_metadata': {'entity': 'knowns-entity', 'source': 'wikipedia'}},\n",
       " {'content': 'Tests showed that a given Pentium 4 made for LGA 775 consumed more power and produced more heat than the exact same chip in a socket 478 package. The BTX form factor, meanwhile, showed signs of having been designed for the sole purpose of managing the Prescott\\'s heat output at the expense of other components and concerns, such as blowing hot air from the CPU directly into the graphics card\\'s heatsink/fan. These magnified the perception of Prescott as an excessively hot chip.\\nThe \"Prescott\" Pentium 4 contains 125 million transistors and has a die area of 112 mm2. It was fabricated in a 90 nm process with seven levels of copper interconnect.',\n",
       "  'score': 18.421875,\n",
       "  'rank': 6,\n",
       "  'document_id': 'Pentium_4',\n",
       "  'passage_id': 23081,\n",
       "  'document_metadata': {'entity': 'knowns-entity', 'source': 'wikipedia'}},\n",
       " {'content': 'This was done to avoid the reputed danger of the heat sinks/fans of pre-built computers falling off in transit. LGA 775 was announced to have better heat dissipation properties than the Socket 478 it was designed to replace, but the Prescott core CPUs (in their early incarnations) ran much hotter than the previous Northwood-core Pentium 4 CPUs, and this initially neutralized the benefits of better heat transfer. However, the later Core 2 processors run at much lower temperatures than the Prescott CPUs they replaced.\\nProcessors with lower TDP and clock speeds only used Thermal Interface Compound in between the die and the integrated heat spreader (IHS), while processors with higher TDP and clock speeds have the die soldered directly to the IHS, allowing for better heat transfer between the CPU and the integrated heat spreader.',\n",
       "  'score': 17.96875,\n",
       "  'rank': 7,\n",
       "  'document_id': 'LGA_775',\n",
       "  'passage_id': 2525,\n",
       "  'document_metadata': {'entity': 'knowns-entity', 'source': 'wikipedia'}},\n",
       " {'content': 'In January 2004, a 3.4 GHz version was released for Socket 478, and in Summer 2004 the CPU was released using the new Socket 775 (LGA 775) socket. A slight performance increase was achieved in late 2004 by increasing the bus speed from 800 MT/s to 1066 MT/s, resulting in a 3.46 GHz Pentium 4 Extreme Edition. By most metrics, this was on a per-clock basis the fastest single-core NetBurst processor that was ever produced, even outperforming many of its successor chips (not counting the dual-core Pentium D). Afterwards, the Pentium 4 Extreme Edition was migrated to the Prescott core.',\n",
       "  'score': 17.71875,\n",
       "  'rank': 8,\n",
       "  'document_id': 'Pentium_4',\n",
       "  'passage_id': 23074,\n",
       "  'document_metadata': {'entity': 'knowns-entity', 'source': 'wikipedia'}},\n",
       " {'content': '== LGA 775 mechanical load limits ==\\nAll LGA 775 processors have the following mechanical maximum load limits which should not be exceeded during heat sink assembly, shipping conditions, or standard use. Load above those limits could crack the processor die and make it unusable. The limits are included in the table below.\\n\\nThe transition to the LGA packaging has lowered those load limits, which are smaller than the load limits of Socket 478 processors but they are bigger than Socket 370, Socket 423 and Socket A processors, which were fragile. They are large enough to ensure that processors will not crack.\\n\\n\\n== LGA 775 compatibility ==\\nCompatibility is quite variable, as earlier chipsets (Intel 915 and below) tend to support only single core NetBurst Pentium 4 and Celeron CPUs at an FSB of 533/800 MT/s.',\n",
       "  'score': 17.71875,\n",
       "  'rank': 9,\n",
       "  'document_id': 'LGA_775',\n",
       "  'passage_id': 2526,\n",
       "  'document_metadata': {'entity': 'knowns-entity', 'source': 'wikipedia'}},\n",
       " {'content': 'Prescott\\'s inability to achieve greater clock speeds was attributed to the very high power consumption and heat output of the processor. This led to the processor receiving the nickname \"PresHot\" on forums. In fact, Prescott\\'s power and heat characteristics were only slightly higher than those of Northwood of the same speed and nearly equal to the Gallatin-based Extreme Editions, but since those processors had already been operating near the limits of what was considered thermally acceptable, this still posed a major issue.The release of Prescott also coincided with the launch of LGA 775 and the BTX form factor, which were also criticized. Tests showed that a given Pentium 4 made for LGA 775 consumed more power and produced more heat than the exact same chip in a socket 478 package.',\n",
       "  'score': 17.4375,\n",
       "  'rank': 10,\n",
       "  'document_id': 'Pentium_4',\n",
       "  'passage_id': 23080,\n",
       "  'document_metadata': {'entity': 'knowns-entity', 'source': 'wikipedia'}}]"
      ]
     },
     "execution_count": 6,
     "metadata": {},
     "output_type": "execute_result"
    }
   ],
   "source": [
    "RAG.search(query=\"Who created LGA 775 ?\")"
   ]
  },
  {
   "cell_type": "code",
   "execution_count": 8,
   "metadata": {},
   "outputs": [
    {
     "data": {
      "text/plain": [
       "[{'content': 'According to the lawsuit, Zillow\\'s Southern California office represents an \"adult frat house where sexual harassment and misconduct are normalized, condoned, and promoted by male managers.\" Based on the allegations against the company, Samini has called Zillow a \"modern day Animal House.\" On May 5, 2016, Zillow settled the action for an undisclosed amount, without admitting any wrongdoing.In 2017, Zillow sent a cease-and-desist letter to Kate Wagner, the author of McMansion Hell, a blog that lampooned the presentations of luxury homes found on the site. Wagner was represented by the Electronic Frontier Foundation. Zillow later released a statement saying it had \"decided against moving forward with legal action\" on the matter.\\n\\n\\n== References ==',\n",
       "  'score': 21.078125,\n",
       "  'rank': 1,\n",
       "  'document_id': 'Zillow',\n",
       "  'passage_id': 4529,\n",
       "  'document_metadata': {'entity': 'knowns-entity', 'source': 'wikipedia'}},\n",
       " {'content': 'Zillow has made some effort to add balance by including an option for owners to provide their own value estimate, but these figures can be similarly unreliable as being opinion instead of quantifiable.\\nIn 2014, Zillow faced several lawsuits from former employees at the Zillow operation in Irvine, California, alleging violations of California Labor Code and California Business and Professions Code. On February 26, 2016, the U.S. District Court for the Central District of California certified the class to include anyone who worked as an inside sales consultant at Zillow between November 2010 and January 2015. Among the numerous allegations brought by high-profile attorneys Bobby Samini and Mark Geragos, Zillow is accused of failing to pay wages, failing to pay overtime pay, and failing to provide meal and rest breaks.',\n",
       "  'score': 20.015625,\n",
       "  'rank': 2,\n",
       "  'document_id': 'Zillow',\n",
       "  'passage_id': 4527,\n",
       "  'document_metadata': {'entity': 'knowns-entity', 'source': 'wikipedia'}},\n",
       " {'content': \"Zillow Group, Inc., or simply Zillow, is an American tech real-estate marketplace company that was founded in 2006 by Rich Barton, Zillow's current CEO, and Lloyd Frink, former Microsoft executives and founders of Microsoft spin-off Expedia; Spencer Rascoff, a co-founder of Hotwire.com; David Beitel, Zillow's current chief technology officer; and Kristin Acker, Zillow's current technology leadership advisor.\\n\\n\\n== History ==\\n\\n\\n=== Early history ===\\nRich Barton got the inspiration for Zillow while at Microsoft, where he had founded Expedia.com from within the company. Barton believed that a consumer-facing site could transform the real estate industry in the same way that Expedia had the travel industry.\",\n",
       "  'score': 19.421875,\n",
       "  'rank': 3,\n",
       "  'document_id': 'Zillow',\n",
       "  'passage_id': 4510,\n",
       "  'document_metadata': {'entity': 'knowns-entity', 'source': 'wikipedia'}},\n",
       " {'content': '=== Neighborhood boundary maps (GIS data) ===\\nThe Zillow data team has created a database of nearly 7,544 neighborhood boundaries in the largest cities in the U.S. and made them available via a Creative Commons Attribute-Sharealike license.\\n\\n\\n== Zestimate ==\\nZillow determines an estimate, also known as a \"Zestimate\", for a home based on a range of publicly available information, including sales of comparable houses in a neighborhood. According to Zillow, the Zestimate is a starting point in determining a home\\'s value.',\n",
       "  'score': 18.71875,\n",
       "  'rank': 4,\n",
       "  'document_id': 'Zillow',\n",
       "  'passage_id': 4522,\n",
       "  'document_metadata': {'entity': 'knowns-entity', 'source': 'wikipedia'}},\n",
       " {'content': 'Barton believed that a consumer-facing site could transform the real estate industry in the same way that Expedia had the travel industry. Barton told the Seattle Post-Intelligencer, \"the web [had] been around for now 9 years or 10 years, but still I couldn\\'t get pictures of homes and complete listings and prices and addresses.\" \"We were trying to answer a simple question. What is that house worth? What should we offer if we wanted to buy it?\"In December 2004, Zillow was incorporated in Washington. Barton and co-founder Lloyd Frink, a former Expedia executive, self-funded the company, which operated out of a downtown Seattle office with 20 employees.Zillow\\'s website was launched on February 8, 2006, and included a home-valuation tool that anyone could use.',\n",
       "  'score': 18.609375,\n",
       "  'rank': 5,\n",
       "  'document_id': 'Zillow',\n",
       "  'passage_id': 4511,\n",
       "  'document_metadata': {'entity': 'knowns-entity', 'source': 'wikipedia'}},\n",
       " {'content': \"Apps for Android and Windows Mobile soon followed.In 2010, Zillow became profitable for the first time. In September of that same year, Spencer Rascoff was named CEO of the company. Rascoff was formerly Zillow's COO and VP of marketing, and before that had been at Expedia. Rich Barton stayed as executive chairman.Rascoff has previously expressed a desire for Zillow to go public. On April 18, 2011, Zillow filed for a $5.1 million initial public offering. On July 20, the company began trading under the symbol “Z” on the Nasdaq stock market.Zillow made its first acquisition in 2011 by purchasing Postlets, a digital real estate listing and distribution platform.\",\n",
       "  'score': 18.4375,\n",
       "  'rank': 6,\n",
       "  'document_id': 'Zillow',\n",
       "  'passage_id': 4513,\n",
       "  'document_metadata': {'entity': 'knowns-entity', 'source': 'wikipedia'}},\n",
       " {'content': \"In June of that same year, Zillow signed a partnership with Century 21 Canada to begin listing Canadian properties on the site, marking the first country outside the United States to be covered by the company.In February 2019, Rich Barton returned to the CEO role, replacing Rascoff. In May of that year, the company announced it would be expanding its home-buying business, Zillow Offers, to new markets.In February 2020, Zillow's stock was up 18% after hitting a four-year low. In March of the same year, the company announced a cut in expenses by 25%, and paused hiring due to the COVID-19 pandemic. In July 2020, Zillow became one of the first companies to let employees keep working from home indefinitely.\",\n",
       "  'score': 18.359375,\n",
       "  'rank': 7,\n",
       "  'document_id': 'Zillow',\n",
       "  'passage_id': 4515,\n",
       "  'document_metadata': {'entity': 'knowns-entity', 'source': 'wikipedia'}},\n",
       " {'content': 'In July 2020, Zillow became one of the first companies to let employees keep working from home indefinitely. In March 2021, Zillow stated it had hired about 1,500 employees over the past twelve months. The company then announced plans to increase the workforce by 40% by hiring more than 2,000 employees nationwide by the end of the year.In November 2021, CEO Barton announced the company would shutter the home-buying part of the business, sell its existing inventory, and lay off 25% of its employees. When Barton announced the company would cease purchasing homes, Zillow owned about 7,000 houses. The division responsible for acquiring and selling homes, Zillow Offers, resulted in the company losing $420 million in the third quarter of 2021.',\n",
       "  'score': 18.078125,\n",
       "  'rank': 8,\n",
       "  'document_id': 'Zillow',\n",
       "  'passage_id': 4516,\n",
       "  'document_metadata': {'entity': 'knowns-entity', 'source': 'wikipedia'}},\n",
       " {'content': 'Among the numerous allegations brought by high-profile attorneys Bobby Samini and Mark Geragos, Zillow is accused of failing to pay wages, failing to pay overtime pay, and failing to provide meal and rest breaks. Zillow responded: \"the narrative being pushed by this law firm through their multiple lawsuits is completely inconsistent with those who know and work with Zillow...the behavior described does not accurately depict our culture or the 1,200 Zillow employees.\"In addition, Samini and Geragos represented a former Zillow employee in a sexual harassment action against the company, alleging \"sexual torture\" and \"the most heinous acts of sexual harassment imaginable\". According to the lawsuit, Zillow\\'s Southern California office represents an \"adult frat house where sexual harassment and misconduct are normalized, condoned, and promoted by male managers.\"',\n",
       "  'score': 17.84375,\n",
       "  'rank': 9,\n",
       "  'document_id': 'Zillow',\n",
       "  'passage_id': 4528,\n",
       "  'document_metadata': {'entity': 'knowns-entity', 'source': 'wikipedia'}},\n",
       " {'content': 'The division responsible for acquiring and selling homes, Zillow Offers, resulted in the company losing $420 million in the third quarter of 2021.\\n\\n\\n== Business model ==\\nZillow Group Inc is a real estate marketplace company that provides information and services related to selling, buying, renting, and financing through its platform, which is accessible through a website and mobile application. In 2022 the company announced a \"housing super app\" business strategy in which the Zillow platform would facilitate all components of the home buying, selling, and renting process, from initial property searches to closing to moving. This new business model is structured around five pillars of growth: touring, financing, expanding seller solutions, enhancing partner network, and integrating services. Zillow executives have stated that by focusing on these growth metrics, the company can increase both the total number of customer transactions and the revenue per customer transaction.Before 2023, Zillow\\'s business operations were organized into three segments: Internet, Media, and Technology (“IMT”), Mortgages, and Homes.',\n",
       "  'score': 17.71875,\n",
       "  'rank': 10,\n",
       "  'document_id': 'Zillow',\n",
       "  'passage_id': 4517,\n",
       "  'document_metadata': {'entity': 'knowns-entity', 'source': 'wikipedia'}}]"
      ]
     },
     "execution_count": 8,
     "metadata": {},
     "output_type": "execute_result"
    }
   ],
   "source": [
    "RAG.search(query=\"Which city is Zillow headquarters?\")"
   ]
  },
  {
   "cell_type": "code",
   "execution_count": 9,
   "metadata": {},
   "outputs": [
    {
     "data": {
      "text/plain": [
       "[{'content': 'Yellowstone National Park is a national park located in the western United States, largely in the northwest corner of Wyoming and extending into Montana and Idaho. It was established by the 42nd U.S. Congress with the Yellowstone National Park Protection Act and signed into law by President Ulysses S. Grant on March 1, 1872. Yellowstone was the first national park in the U.S. and is also widely held to be the first national park in the world. The park is known for its wildlife and its many geothermal features, especially the Old Faithful geyser, one of its most popular. While it represents many types of biomes, the subalpine forest is the most abundant. It is part of the South Central Rockies forests ecoregion.',\n",
       "  'score': 25.171875,\n",
       "  'rank': 1,\n",
       "  'document_id': 'Yellowstone_National_Park',\n",
       "  'passage_id': 5097,\n",
       "  'document_metadata': {'entity': 'knowns-entity', 'source': 'wikipedia'}},\n",
       " {'content': 'The Yellowstone National Park Archives maintain collections of historical records of Yellowstone and the National Park Service. The collection includes the administrative records of Yellowstone, as well as resource management records, records from major projects, and donated manuscripts and personal papers. The archives are affiliated with the National Archives and Records Administration.\\n\\n\\n== Geography ==\\n\\nApproximately 96 percent of the land area of Yellowstone National Park is located within the state of Wyoming. Another three percent is within Montana, with the remaining one percent in Idaho. The park is 63 miles (101 km) north to south, and 54 miles (87 km) west to east by air. Yellowstone is 2,219,789 acres (8,983 km2; 3,468 sq mi) in area, larger than either of the states of Rhode Island or Delaware.',\n",
       "  'score': 23.9375,\n",
       "  'rank': 2,\n",
       "  'document_id': 'Yellowstone_National_Park',\n",
       "  'passage_id': 5134,\n",
       "  'document_metadata': {'entity': 'knowns-entity', 'source': 'wikipedia'}},\n",
       " {'content': \"In 1917, the administration of the park was transferred to the National Park Service, which had been created the previous year. Hundreds of structures have been built and are protected for their architectural and historical significance, and researchers have examined more than a thousand archaeological sites.\\nYellowstone National Park spans an area of 3,468.4 sq mi (8,983 km2), comprising lakes, canyons, rivers, and mountain ranges. Yellowstone Lake is one of the largest high-elevation lakes in North America and is centered over the Yellowstone Caldera, the largest super volcano on the continent. The caldera is considered a dormant volcano. It has erupted with tremendous force several times in the last two million years. Well over half of the world's geysers and hydrothermal features are in Yellowstone, fueled by this ongoing volcanism.\",\n",
       "  'score': 22.0625,\n",
       "  'rank': 3,\n",
       "  'document_id': 'Yellowstone_National_Park',\n",
       "  'passage_id': 5099,\n",
       "  'document_metadata': {'entity': 'knowns-entity', 'source': 'wikipedia'}},\n",
       " {'content': \"This was the largest earthquake to hit the park since February 22, 1980.\\n\\n\\n== Biology and ecology ==\\n\\nYellowstone National Park is the centerpiece of the 20 million acres (80,940 km2; 31,250 sq mi) Greater Yellowstone Ecosystem, a region that includes Grand Teton National Park, adjacent National Forests and expansive wilderness areas in those forests. The ecosystem is the largest remaining continuous stretch of mostly undeveloped pristine land in the contiguous United States, considered the world's largest intact ecosystem in the northern temperate zone. With the successful wolf reintroduction program, which began in the 1990s, much of the original faunal and floral species known to inhabit the region when the first explorers entered the area can be found there. The site is home to a key field observation site for the National Ecological Observatory Network.\",\n",
       "  'score': 22.03125,\n",
       "  'rank': 4,\n",
       "  'document_id': 'Yellowstone_National_Park',\n",
       "  'passage_id': 5155,\n",
       "  'document_metadata': {'entity': 'knowns-entity', 'source': 'wikipedia'}},\n",
       " {'content': 'Yellowstone is 2,219,789 acres (8,983 km2; 3,468 sq mi) in area, larger than either of the states of Rhode Island or Delaware. Rivers and lakes cover five percent of the land area, with the largest water body being Yellowstone Lake at 87,040 acres (352 km2; 136 sq mi). Yellowstone Lake is up to 400 feet (120 m) deep and has 110 miles (180 km) of shoreline. At an elevation of 7,733 feet (2,357 m) above sea level, Yellowstone Lake is the largest high-elevation lake in North America. Forests comprise 80 percent of the land area of the park; most of the rest is grassland.The Continental Divide of North America runs diagonally through the southwestern part of the park.',\n",
       "  'score': 21.6875,\n",
       "  'rank': 5,\n",
       "  'document_id': 'Yellowstone_National_Park',\n",
       "  'passage_id': 5135,\n",
       "  'document_metadata': {'entity': 'knowns-entity', 'source': 'wikipedia'}},\n",
       " {'content': \"Yellowstone is one of the few places in the United States where black bears can be seen coexisting with grizzly bears. Black bear observations occur most often in the park's northern ranges, and in the Bechler area which is in the park's southwestern corner.As of 2017, an estimated 700 grizzly bears were living in the Greater Yellowstone Ecosystem, with about 150 grizzlies living wholly or partially within Yellowstone National Park. The grizzly was initially listed as a threatened species in the contiguous United States on July 28, 1975, by the Fish and Wildlife Service. The grizzly bear was taken off the endangered species list in 2007. Opponents of delisting the grizzly expressed concerns that states might once again allow hunting and that better conservation measures were needed to ensure a sustainable population.\",\n",
       "  'score': 21.515625,\n",
       "  'rank': 6,\n",
       "  'document_id': 'Yellowstone_National_Park',\n",
       "  'passage_id': 5169,\n",
       "  'document_metadata': {'entity': 'knowns-entity', 'source': 'wikipedia'}},\n",
       " {'content': 'The recovery of populations throughout the states of Wyoming, Montana, and Idaho has been so successful that on February 27, 2008, the U.S. Fish and Wildlife Service removed the Northern Rocky Mountain wolf population from the endangered species list. As of January 2023, there are at least 108 wolves in the park in 10 packs. Wolves in Yellowstone sit at the core of a larger population connected throughout the Greater Yellowstone Ecosystem.\\nBlack bears are common in the park and were a park symbol due to visitor interaction with the bears starting in 1910. Feeding and close contact with bears has not been permitted since the 1960s to reduce their desire for human foods. Yellowstone is one of the few places in the United States where black bears can be seen coexisting with grizzly bears.',\n",
       "  'score': 21.375,\n",
       "  'rank': 7,\n",
       "  'document_id': 'Yellowstone_National_Park',\n",
       "  'passage_id': 5168,\n",
       "  'document_metadata': {'entity': 'knowns-entity', 'source': 'wikipedia'}},\n",
       " {'content': 'The vast forests and grasslands also include unique species of plants. Yellowstone Park is the largest and most famous megafauna location in the contiguous United States. Grizzly bears, cougars, wolves, and free-ranging herds of bison and elk live in this park. The Yellowstone Park bison herd is the oldest and largest public bison herd in the United States. Forest fires occur in the park each year; in the large forest fires of 1988, nearly one-third of the park was burnt. Yellowstone has numerous recreational opportunities, including hiking, camping, boating, fishing, and sightseeing. Paved roads provide close access to the major geothermal areas as well as some of the lakes and waterfalls. During the winter, visitors often access the park by way of guided tours that use either snow coaches or snowmobiles.',\n",
       "  'score': 21.21875,\n",
       "  'rank': 8,\n",
       "  'document_id': 'Yellowstone_National_Park',\n",
       "  'passage_id': 5101,\n",
       "  'document_metadata': {'entity': 'knowns-entity', 'source': 'wikipedia'}},\n",
       " {'content': '19, No. 3, pp. 40–51. JSTOR 43598916.\\n\\n\\n== External links ==\\n\\nOfficial website  of the National Park Service\\nTravertine: Yellowstone\\'s Hydrothermal Timekeeper USGS May 24, 2021\\nAct Establishing Yellowstone National Park from the Library of Congress\\nCongressional Acts Pertaining to Yellowstone\\nThe Yellowstone magmatic system from the mantle plume to the upper crust at Science (registration required)\\nBYU Larsen Yellowstone collection at the L. Tom Perry Special Collections Library of Brigham Young University\\nGannett, Henry (1888). \"Yellowstone National Park\" . Encyclopædia Britannica. Vol. XXIV (9th ed.). p. 736-738.\\n\"Yellowstone National Park\" .',\n",
       "  'score': 20.890625,\n",
       "  'rank': 9,\n",
       "  'document_id': 'Yellowstone_National_Park',\n",
       "  'passage_id': 5207,\n",
       "  'document_metadata': {'entity': 'knowns-entity', 'source': 'wikipedia'}},\n",
       " {'content': 'The park has 1,106 historic structures and features, and of these Obsidian Cliff and five buildings have been designated National Historic Landmarks. Yellowstone was designated an International Biosphere Reserve on October 26, 1976, and a UN World Heritage Site on September 8, 1978. The park was placed on the List of World Heritage in Danger from 1995 to 2003 due to the effects of tourism, infection of wildlife, and issues with invasive species. In 2010, Yellowstone National Park was honored with its own quarter under the America the Beautiful Quarters Program.Justin Farrell explores three moral sensibilities that motivated activists in dealing with Yellowstone. First came the utilitarian vision of maximum exploitation of natural resources, a characteristic of developers in the late 19th century.',\n",
       "  'score': 20.671875,\n",
       "  'rank': 10,\n",
       "  'document_id': 'Yellowstone_National_Park',\n",
       "  'passage_id': 5132,\n",
       "  'document_metadata': {'entity': 'knowns-entity', 'source': 'wikipedia'}}]"
      ]
     },
     "execution_count": 9,
     "metadata": {},
     "output_type": "execute_result"
    }
   ],
   "source": [
    "RAG.search(query=\"Which state is the Yellowstone National Park in?\")"
   ]
  },
  {
   "cell_type": "code",
   "execution_count": 10,
   "metadata": {},
   "outputs": [
    {
     "data": {
      "text/plain": [
       "[{'content': \"Ukraine is a country in Eastern Europe. It is the second-largest European country after Russia, which borders it to the east and northeast. It also borders Belarus to the north; Poland, Slovakia, and Hungary to the west; and Romania and Moldova to the southwest; with a coastline along the Black Sea and the Sea of Azov to the south and southeast. Kyiv is the nation's capital and largest city, followed by Kharkiv, Dnipro and Odesa. Ukraine's official language is Ukrainian; Russian is also widely spoken, especially in the east and south.\\nDuring the Middle Ages, Ukraine was the site of early Slavic expansion and the area later became a key centre of East Slavic culture under the state of Kievan Rus', which emerged in the 9th century.\",\n",
       "  'score': 25.203125,\n",
       "  'rank': 1,\n",
       "  'document_id': 'Ukraine',\n",
       "  'passage_id': 27436,\n",
       "  'document_metadata': {'entity': 'knowns-entity', 'source': 'wikipedia'}},\n",
       " {'content': 'In 882, the pagan Prince Oleg (Oleh) conquered Kyiv from Askold and Dir and proclaimed it as the new capital of the Rus\\'. Anti-Normanist historians however argue that the East Slavic tribes along the southern parts of the Dnieper River were already in the process of forming a state independently. The Varangian elite, including the ruling Rurik dynasty, later assimilated into the Slavic population. Kievan Rus\\' was composed of several principalities ruled by the interrelated Rurikid kniazes (\"princes\"), who often fought each other for possession of Kyiv.During the 10th and 11th centuries, Kievan Rus\\' became the largest and most powerful state in Europe, a period known as its Golden Age.',\n",
       "  'score': 22.6875,\n",
       "  'rank': 2,\n",
       "  'document_id': 'Ukraine',\n",
       "  'passage_id': 27446,\n",
       "  'document_metadata': {'entity': 'knowns-entity', 'source': 'wikipedia'}},\n",
       " {'content': \"The Ukrainian State (Ukrainian: Українська Держава, romanized: Ukrainska Derzhava), sometimes also called the Second Hetmanate (Ukrainian: Другий Гетьманат, romanized: Druhyi Hetmanat), was an anti-Bolshevik government that existed on most of the modern territory of Ukraine (except for Western Ukraine) from 29 April to 14 December 1918.It was installed by German military authorities after the socialist-leaning Central Council of the Ukrainian People's Republic was dispersed on 28 April 1918. The Ukrainian State was governed by Pavlo Skoropadskyi, the hetman of all Ukraine, who outlawed all socialist-oriented political parties, creating an anti-Bolshevik front with the Russian State.\",\n",
       "  'score': 21.21875,\n",
       "  'rank': 3,\n",
       "  'document_id': 'Ukrainian_State',\n",
       "  'passage_id': 6985,\n",
       "  'document_metadata': {'entity': 'knowns-entity', 'source': 'wikipedia'}},\n",
       " {'content': \"Northern migrations, reaching almost to Lake Ilmen, led to the emergence of the Ilmen Slavs and Krivichs. Following an Avar raid in 602 and the collapse of the Antes Union, most of these peoples survived as separate tribes until the beginning of the second millennium.\\n\\n\\n=== Golden Age of Kyiv ===\\n\\nThe establishment of the state of Kievan Rus' remains obscure and uncertain. The state included much of present-day Ukraine, Belarus and the western part of European Russia. According to the Primary Chronicle, the Rus' people initially consisted of Varangians from Scandinavia. In 882, the pagan Prince Oleg (Oleh) conquered Kyiv from Askold and Dir and proclaimed it as the new capital of the Rus'.\",\n",
       "  'score': 20.609375,\n",
       "  'rank': 4,\n",
       "  'document_id': 'Ukraine',\n",
       "  'passage_id': 27445,\n",
       "  'document_metadata': {'entity': 'knowns-entity', 'source': 'wikipedia'}},\n",
       " {'content': \"The oblast is predominantly administrated by the Luhansk Oblast State Administration, headed by the governor of the oblast, who is appointed by the President of Ukraine. The province has a representative body, the provincial council, which is headed by its chairman and elected by popular vote.\\nThe province is primarily divided into 18 raions (districts), and 37 cities, including 14 cities of regional significance. The administrative center is Luhansk. These raions are listed below with their areas and populations.The province's secondary division consists of various municipalities. Those municipalities may consist of one or more populated places. The municipalities are administratively subordinate to the raion in which they are located, with the exception of 14 cities subordinated directly to the oblast.\",\n",
       "  'score': 20.53125,\n",
       "  'rank': 5,\n",
       "  'document_id': 'Luhansk_Oblast',\n",
       "  'passage_id': 16970,\n",
       "  'document_metadata': {'entity': 'knowns-entity', 'source': 'wikipedia'}},\n",
       " {'content': \"All of the oblast is in the Donbas region. \\nIn 2014, large parts of the oblast, including the capital Luhansk, came under the control of Russian-backed separatists who declared the Luhansk People's Republic, leading to a war against Ukrainian government forces. Since the 2022 Russian invasion of Ukraine, the oblast has come almost entirely under Russian occupation and has been the scene of heavy fighting, which continues in some places. In late September 2022, Russia declared the annexation of the entire oblast, along with three others, though the annexation remains internationally unrecognized.\",\n",
       "  'score': 20.484375,\n",
       "  'rank': 6,\n",
       "  'document_id': 'Luhansk_Oblast',\n",
       "  'passage_id': 16956,\n",
       "  'document_metadata': {'entity': 'knowns-entity', 'source': 'wikipedia'}},\n",
       " {'content': \"== Points of interest ==\\nThe following sites were nominated for the Seven Wonders of Ukraine.\\n\\nThe house of Dal's birth (Luhansk)\\nFighters for the Revolution monument\\nDerkul horse factory\\nRoyal Rocks (Luhansk State Preserve)\\nChasm Steppe (Sverdlovsk Raion)\\nRam Foreheads (limestone rocks)\\nMścichowski Palace (Палац Мсциховського)\\n\\n\\n== Notable people ==\\nOleksiy Danilov (born 1962), Ukrainian politician\\nDov Markus (born 1946), Israeli-American soccer player, born in Ukraine.\\nSerhiy Zhadan (born 1974), writer.\\n\\n\\n== Gallery ==\",\n",
       "  'score': 20.328125,\n",
       "  'rank': 7,\n",
       "  'document_id': 'Luhansk_Oblast',\n",
       "  'passage_id': 16978,\n",
       "  'document_metadata': {'entity': 'knowns-entity', 'source': 'wikipedia'}},\n",
       " {'content': \"Citizens unable to speak Ukrainian or Russian may use their native language or the services of a translator. Previously all court proceedings had to be held in Ukrainian.Law enforcement agencies are controlled by the Ministry of Internal Affairs. They consist primarily of the national police force and various specialised units and agencies such as the State Border Guard and the Coast Guard services. Law enforcement agencies, particularly the police, faced criticism for their heavy handling of the 2004 Orange Revolution. Many thousands of police officers were stationed throughout the capital, primarily to dissuade protesters from challenging the state's authority but also to provide a quick reaction force in case of need; most officers were armed.\\n\\n\\n=== Foreign relations ===\\n\\nFrom 1999 to 2001, Ukraine served as a non-permanent member of the UN Security Council.\",\n",
       "  'score': 20.078125,\n",
       "  'rank': 8,\n",
       "  'document_id': 'Ukraine',\n",
       "  'passage_id': 27500,\n",
       "  'document_metadata': {'entity': 'knowns-entity', 'source': 'wikipedia'}},\n",
       " {'content': 'Luhansk Oblast (Ukrainian: Луганська область, romanized: Luhanska oblast; Russian: Луганская область, romanized: Luganskaya oblast), also referred to as Luhanshchyna (Луганщина), is the easternmost oblast (province) of Ukraine. Its administrative center is the city of Luhansk. The oblast was established in 1938 and bore the name Voroshilovgrad Oblast until 1958 and again from 1970 to 1991.',\n",
       "  'score': 20.03125,\n",
       "  'rank': 9,\n",
       "  'document_id': 'Luhansk_Oblast',\n",
       "  'passage_id': 16954,\n",
       "  'document_metadata': {'entity': 'knowns-entity', 'source': 'wikipedia'}},\n",
       " {'content': 'On September 30, 2022, the city was formally annexed by the Russian Federation; however, it remains internationally recognized as sovereign territory of Ukraine.\\nThe city is located at the crossing of two major European highways: E58 Vienna – Uzhhorod – Kyiv – Rostov-on-Don and E105 Kirkenes – St. Petersburg – Moscow – Kyiv – Yalta. An electrified railway line of international importance goes through Melitopol. The city was once known as \"the gateway to the Crimea\"; prior to the 2014 Russian occupation of Crimea 80% of passenger trains heading to the peninsula passed through it and during the summer, road traffic reached 45,000 vehicles per day.\\n\\n\\n== Etymology ==',\n",
       "  'score': 19.953125,\n",
       "  'rank': 10,\n",
       "  'document_id': 'Melitopol',\n",
       "  'passage_id': 12138,\n",
       "  'document_metadata': {'entity': 'knowns-entity', 'source': 'wikipedia'}}]"
      ]
     },
     "execution_count": 10,
     "metadata": {},
     "output_type": "execute_result"
    }
   ],
   "source": [
    "RAG.search(query=\"The state capital of Ukraine is,\")"
   ]
  },
  {
   "cell_type": "code",
   "execution_count": null,
   "metadata": {},
   "outputs": [],
   "source": []
  }
 ],
 "metadata": {
  "kernelspec": {
   "display_name": "Python 3",
   "language": "python",
   "name": "python3"
  },
  "language_info": {
   "codemirror_mode": {
    "name": "ipython",
    "version": 3
   },
   "file_extension": ".py",
   "mimetype": "text/x-python",
   "name": "python",
   "nbconvert_exporter": "python",
   "pygments_lexer": "ipython3",
   "version": "3.9.19"
  }
 },
 "nbformat": 4,
 "nbformat_minor": 2
}
