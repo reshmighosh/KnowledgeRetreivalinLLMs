{
 "cells": [
  {
   "cell_type": "code",
   "execution_count": 20,
   "metadata": {},
   "outputs": [],
   "source": [
    "from ragatouille import RAGPretrainedModel\n",
    "import json\n",
    "from tqdm import tqdm \n",
    "import jsonlines\n",
    "import numpy as np"
   ]
  },
  {
   "cell_type": "code",
   "execution_count": 2,
   "metadata": {},
   "outputs": [],
   "source": [
    "RAG = RAGPretrainedModel.from_index(\".ragatouille/colbert/indexes/wiki-knowns-1000-full\")"
   ]
  },
  {
   "cell_type": "code",
   "execution_count": 4,
   "metadata": {},
   "outputs": [],
   "source": [
    "knowns = json.load(open(\"known_1000.json\"))\n",
    "answers = [k['attribute'] for k in knowns]\n",
    "queries = [k['prompt'] for k in knowns]"
   ]
  },
  {
   "cell_type": "code",
   "execution_count": 33,
   "metadata": {},
   "outputs": [],
   "source": [
    "def precision_at_K(documents, answer, K=3):\n",
    "    num_relevant = 0\n",
    "    for i in range(min(len(documents), K)):\n",
    "        # print(documents[i]['content'])\n",
    "        if answer in documents[i]['content']:\n",
    "            num_relevant+=1\n",
    "    return num_relevant/K"
   ]
  },
  {
   "cell_type": "code",
   "execution_count": 7,
   "metadata": {},
   "outputs": [],
   "source": [
    "def fetch_top_K(query, K=10):\n",
    "    results = RAG.search(query=query)\n",
    "    return results[:min(K, len(results))]"
   ]
  },
  {
   "cell_type": "code",
   "execution_count": 9,
   "metadata": {},
   "outputs": [],
   "source": [
    "retrieved_docs = []"
   ]
  },
  {
   "cell_type": "code",
   "execution_count": 10,
   "metadata": {},
   "outputs": [
    {
     "name": "stderr",
     "output_type": "stream",
     "text": [
      "100%|██████████| 1209/1209 [00:15<00:00, 78.86it/s]\n"
     ]
    }
   ],
   "source": [
    "for q in tqdm(queries):\n",
    "    docs = fetch_top_K(q)\n",
    "    retrieved_docs.append({\"query\": q, \"documents\": docs})"
   ]
  },
  {
   "cell_type": "code",
   "execution_count": 34,
   "metadata": {},
   "outputs": [
    {
     "name": "stderr",
     "output_type": "stream",
     "text": [
      "1209it [00:00, 333371.48it/s]\n"
     ]
    }
   ],
   "source": [
    "precisions = {3: [], 5: [], 10:[]}\n",
    "for i,r in tqdm(enumerate(retrieved_docs)):\n",
    "    precisions[3].append(precision_at_K(r['documents'], answers[i], K=3))"
   ]
  },
  {
   "cell_type": "code",
   "execution_count": 36,
   "metadata": {},
   "outputs": [
    {
     "name": "stderr",
     "output_type": "stream",
     "text": [
      "1209it [00:00, 245078.22it/s]\n"
     ]
    }
   ],
   "source": [
    "for i,r in tqdm(enumerate(retrieved_docs)):\n",
    "    precisions[5].append(precision_at_K(r['documents'], answers[i], K=5))"
   ]
  },
  {
   "cell_type": "code",
   "execution_count": 37,
   "metadata": {},
   "outputs": [
    {
     "name": "stderr",
     "output_type": "stream",
     "text": [
      "1209it [00:00, 150058.10it/s]\n"
     ]
    }
   ],
   "source": [
    "for i,r in tqdm(enumerate(retrieved_docs)):\n",
    "    precisions[10].append(precision_at_K(r['documents'], answers[i], K=10))"
   ]
  },
  {
   "cell_type": "code",
   "execution_count": 38,
   "metadata": {},
   "outputs": [
    {
     "data": {
      "text/plain": [
       "0.544251447477254"
      ]
     },
     "execution_count": 38,
     "metadata": {},
     "output_type": "execute_result"
    }
   ],
   "source": [
    "np.mean(precisions[3])"
   ]
  },
  {
   "cell_type": "code",
   "execution_count": 39,
   "metadata": {},
   "outputs": [
    {
     "data": {
      "text/plain": [
       "0.4855252274607113"
      ]
     },
     "execution_count": 39,
     "metadata": {},
     "output_type": "execute_result"
    }
   ],
   "source": [
    "np.mean(precisions[5])"
   ]
  },
  {
   "cell_type": "code",
   "execution_count": 40,
   "metadata": {},
   "outputs": [
    {
     "data": {
      "text/plain": [
       "0.41356492969396197"
      ]
     },
     "execution_count": 40,
     "metadata": {},
     "output_type": "execute_result"
    }
   ],
   "source": [
    "np.mean(precisions[10])"
   ]
  },
  {
   "cell_type": "code",
   "execution_count": null,
   "metadata": {},
   "outputs": [],
   "source": []
  }
 ],
 "metadata": {
  "kernelspec": {
   "display_name": "Python 3",
   "language": "python",
   "name": "python3"
  },
  "language_info": {
   "codemirror_mode": {
    "name": "ipython",
    "version": 3
   },
   "file_extension": ".py",
   "mimetype": "text/x-python",
   "name": "python",
   "nbconvert_exporter": "python",
   "pygments_lexer": "ipython3",
   "version": "3.9.19"
  }
 },
 "nbformat": 4,
 "nbformat_minor": 2
}
