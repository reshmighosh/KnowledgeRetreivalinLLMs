{
 "cells": [
  {
   "cell_type": "code",
   "execution_count": 1,
   "metadata": {},
   "outputs": [],
   "source": [
    "import argparse\n",
    "import json\n",
    "import os\n",
    "import re\n",
    "from collections import defaultdict\n",
    "import sys\n",
    "\n",
    "import numpy\n",
    "import random\n",
    "import torch\n",
    "from datasets import load_dataset\n",
    "from matplotlib import pyplot as plt\n",
    "from tqdm import tqdm\n",
    "from transformers import AutoModelForCausalLM, AutoTokenizer\n",
    "\n",
    "from dsets import KnownsDataset\n",
    "from rome.tok_dataset import (\n",
    "    TokenizedDataset,\n",
    "    dict_to_,\n",
    "    flatten_masked_batch,\n",
    "    length_collation,\n",
    ")\n",
    "from util import nethook\n",
    "from util.globals import DATA_DIR\n",
    "from util.runningstats import Covariance, tally\n",
    "\n",
    "display_modelname = 'phi'\n",
    "\n",
    "def trace_with_patch(\n",
    "    model,  # The model\n",
    "    inp,  # A set of inputs\n",
    "    states_to_patch,  # A list of (token index, layername) triples to restore\n",
    "    answers_t,  # Answer probabilities to collect\n",
    "    tokens_to_mix,  # Range of tokens to corrupt (begin, end)\n",
    "    noise=0.1,  # Level of noise to add\n",
    "    trace_layers=None,  # List of traced outputs to return\n",
    "):\n",
    "    prng = numpy.random.RandomState(1)  # For reproducibility, use pseudorandom noise\n",
    "    patch_spec = defaultdict(list)\n",
    "    for t, l in states_to_patch:\n",
    "        patch_spec[l].append(t)\n",
    "    embed_layername = layername(model, 0, \"embed\")\n",
    "\n",
    "    def untuple(x):\n",
    "        return x[0] if isinstance(x, tuple) else x\n",
    "\n",
    "    # Define the model-patching rule.\n",
    "    def patch_rep(x, layer):\n",
    "        if layer == embed_layername:\n",
    "            # If requested, we corrupt a range of token embeddings on batch items x[1:]\n",
    "            if tokens_to_mix is not None:\n",
    "                b, e = tokens_to_mix\n",
    "                x[1:, b:e] += noise * torch.from_numpy(\n",
    "                    prng.randn(x.shape[0] - 1, e - b, x.shape[2])\n",
    "                ).to(x.device)\n",
    "            return x\n",
    "        if layer not in patch_spec:\n",
    "            return x\n",
    "        # If this layer is in the patch_spec, restore the uncorrupted hidden state\n",
    "        # for selected tokens.\n",
    "        h = untuple(x)\n",
    "        for t in patch_spec[layer]:\n",
    "            h[1:, t] = h[0, t]\n",
    "        return x\n",
    "\n",
    "    # With the patching rules defined, run the patched model in inference.\n",
    "    additional_layers = [] if trace_layers is None else trace_layers\n",
    "    with torch.no_grad(), nethook.TraceDict(\n",
    "        model,\n",
    "        [embed_layername] + list(patch_spec.keys()) + additional_layers,\n",
    "        edit_output=patch_rep,\n",
    "    ) as td:\n",
    "        outputs_exp = model(**inp)\n",
    "\n",
    "    # We report softmax probabilities for the answers_t token predictions of interest.\n",
    "    probs = torch.softmax(outputs_exp.logits[1:, -1, :], dim=1).mean(dim=0)[answers_t]\n",
    "\n",
    "    # If tracing all layers, collect all activations together to return.\n",
    "    if trace_layers is not None:\n",
    "        all_traced = torch.stack(\n",
    "            [untuple(td[layer].output).detach().cpu() for layer in trace_layers], dim=2\n",
    "        )\n",
    "        return probs, all_traced\n",
    "\n",
    "    return probs\n",
    "\n",
    "def get_score(mt, prompt, subject, samples=10, noise=0.1, window=10):\n",
    "    inp = make_inputs(mt.tokenizer, [prompt] * (samples + 1))\n",
    "    with torch.no_grad():\n",
    "        answer_t, base_score = [d[0] for d in predict_from_input(mt.model, inp)]\n",
    "    [answer] = decode_tokens(mt.tokenizer, [answer_t])\n",
    "    e_range = find_token_range(mt.tokenizer, inp[\"input_ids\"][0], subject)\n",
    "    low_score = trace_with_patch(\n",
    "        mt.model, inp, [], answer_t, e_range, noise=noise\n",
    "    ).item()\n",
    "    vanilla_inp = make_inputs(mt.tokenizer, [prompt])\n",
    "    output_tok, high_score = predict_from_input(mt.model, vanilla_inp)\n",
    "    return high_score.item(), low_score\n",
    "\n",
    "def calculate_hidden_flow(\n",
    "    mt, prompt, subject, samples=10, noise=0.1, window=10, kind=None,\n",
    "    token_range=None\n",
    "):\n",
    "    \"\"\"\n",
    "    Runs causal tracing over every token/layer combination in the network\n",
    "    and returns a dictionary numerically summarizing the results.\n",
    "    \"\"\"\n",
    "    inp = make_inputs(mt.tokenizer, [prompt] * (samples + 1))\n",
    "    with torch.no_grad():\n",
    "        answer_t, base_score = [d[0] for d in predict_from_input(mt.model, inp)]\n",
    "    [answer] = decode_tokens(mt.tokenizer, [answer_t])\n",
    "    e_range = find_token_range(mt.tokenizer, inp[\"input_ids\"][0], subject)\n",
    "    low_score = trace_with_patch(\n",
    "        mt.model, inp, [], answer_t, e_range, noise=noise\n",
    "    ).item()\n",
    "    if not kind:\n",
    "        differences = trace_important_states(\n",
    "            mt.model, mt.num_layers, inp, e_range, answer_t, noise=noise, token_range=token_range\n",
    "        )\n",
    "    else:\n",
    "        differences = trace_important_window(\n",
    "            mt.model,\n",
    "            mt.num_layers,\n",
    "            inp,\n",
    "            e_range,\n",
    "            answer_t,\n",
    "            noise=noise,\n",
    "            window=window,\n",
    "            kind=kind,\n",
    "            token_range=token_range\n",
    "        )\n",
    "    differences = differences.detach().cpu()\n",
    "    return dict(\n",
    "        scores=differences,\n",
    "        low_score=low_score,\n",
    "        high_score=base_score,\n",
    "        input_ids=inp[\"input_ids\"][0],\n",
    "        input_tokens=decode_tokens(mt.tokenizer, inp[\"input_ids\"][0]),\n",
    "        subject_range=e_range,\n",
    "        answer=answer,\n",
    "        window=window,\n",
    "        kind=kind or \"\",\n",
    "    )\n",
    "\n",
    "\n",
    "def trace_important_states(model, num_layers, inp, e_range, answer_t, noise=0.1, token_range=None):\n",
    "    ntoks = inp[\"input_ids\"].shape[1]\n",
    "    # print(num_layers, inp, e_range, answer_t, noise, token_range)\n",
    "    table = []\n",
    "    subject_start, subject_end = e_range\n",
    "    for tnum in range(subject_end, ntoks):\n",
    "        row = []\n",
    "        for layer in range(num_layers):\n",
    "            if tnum>=subject_end:\n",
    "                r = trace_with_patch(\n",
    "                    model,\n",
    "                    inp,\n",
    "                    [(tnum, layername(model, layer))],\n",
    "                    answer_t,\n",
    "                    tokens_to_mix=e_range,\n",
    "                    noise=noise,\n",
    "                )\n",
    "                # print(f\"appending {r}\")\n",
    "                row.append(r)\n",
    "            else:\n",
    "                row.append(torch.tensor(0.0).to(device=\"cuda:0\"))\n",
    "            # print(f\"The row is {row}\")\n",
    "        table.append(torch.stack(row))\n",
    "    return torch.stack(table)\n",
    "\n",
    "\n",
    "def trace_important_window(\n",
    "    model, num_layers, inp, e_range, answer_t, kind, window=10, noise=0.1, token_range=None,\n",
    "):\n",
    "    \n",
    "    ntoks = inp[\"input_ids\"].shape[1]\n",
    "    table = []\n",
    "    subject_start, subject_end = e_range\n",
    "    for tnum in range(subject_end, ntoks):\n",
    "        row = []\n",
    "        for layer in range(num_layers):\n",
    "            layerlist = [\n",
    "                (tnum, layername(model, L, kind))\n",
    "                for L in range(\n",
    "                    max(0, layer - window // 2), min(num_layers, layer - (-window // 2))\n",
    "                )\n",
    "            ]\n",
    "            if tnum>=subject_end:\n",
    "                r = trace_with_patch(\n",
    "                    model, inp, layerlist, answer_t, tokens_to_mix=e_range, noise=noise\n",
    "                )\n",
    "                row.append(r)\n",
    "            else:\n",
    "                row.append(torch.tensor(0.0).to(device=\"cuda:0\"))\n",
    "        table.append(torch.stack(row))\n",
    "    return torch.stack(table)\n",
    "\n",
    "\n",
    "class ModelAndTokenizer:\n",
    "    \"\"\"\n",
    "    An object to hold on to (or automatically download and hold)\n",
    "    a GPT-style language model and tokenizer.  Counts the number\n",
    "    of layers.\n",
    "    \"\"\"\n",
    "\n",
    "    def __init__(\n",
    "        self,\n",
    "        model_name=None,\n",
    "        model=None,\n",
    "        tokenizer=None,\n",
    "        low_cpu_mem_usage=False,\n",
    "        torch_dtype=None,\n",
    "    ):\n",
    "        if tokenizer is None:\n",
    "            assert model_name is not None\n",
    "            tokenizer = AutoTokenizer.from_pretrained(model_name)\n",
    "        if model is None:\n",
    "            assert model_name is not None\n",
    "            model = AutoModelForCausalLM.from_pretrained(\n",
    "                model_name, low_cpu_mem_usage=low_cpu_mem_usage, torch_dtype=torch_dtype,\n",
    "                cache_dir=\"/work/pi_dhruveshpate_umass_edu/rseetharaman_umass_edu/.cache/\"\n",
    "            )\n",
    "            nethook.set_requires_grad(False, model)\n",
    "            model.eval().cuda()\n",
    "        self.tokenizer = tokenizer\n",
    "        self.model = model\n",
    "        self.layer_names = [\n",
    "            n\n",
    "            for n, m in model.named_modules()\n",
    "            if (re.match(r\"^(transformer|gpt_neox|model)\\.(h|layers)\\.\\d+$\", n))\n",
    "        ]\n",
    "        self.num_layers = len(self.layer_names)\n",
    "\n",
    "    def __repr__(self):\n",
    "        return (\n",
    "            f\"ModelAndTokenizer(model: {type(self.model).__name__} \"\n",
    "            f\"[{self.num_layers} layers], \"\n",
    "            f\"tokenizer: {type(self.tokenizer).__name__})\"\n",
    "        )\n",
    "\n",
    "\n",
    "def layername(model, num, kind=None):\n",
    "    if hasattr(model, \"transformer\"):\n",
    "        if kind == \"embed\":\n",
    "            return \"transformer.wte\"\n",
    "        return f'transformer.h.{num}{\"\" if kind is None else \".\" + kind}'\n",
    "    if hasattr(model, \"gpt_neox\"):\n",
    "        if kind == \"embed\":\n",
    "            return \"gpt_neox.embed_in\"\n",
    "        if kind == \"attn\":\n",
    "            kind = \"attention\"\n",
    "        return f'gpt_neox.layers.{num}{\"\" if kind is None else \".\" + kind}'\n",
    "    else:\n",
    "        # assume it is llama/mistral\n",
    "        if kind == \"embed\":\n",
    "            return \"model.embed_tokens\"\n",
    "        if kind == \"attn\":\n",
    "            kind = \"self_attn\"\n",
    "        return f'model.layers.{num}{\"\" if kind is None else \".\" + kind}'\n",
    "    # assert False, \"unknown transformer structure\"\n",
    "\n",
    "\n",
    "def guess_subject(prompt):\n",
    "    return re.search(r\"(?!Wh(o|at|ere|en|ich|y) )([A-Z]\\S*)(\\s[A-Z][a-z']*)*\", prompt)[\n",
    "        0\n",
    "    ].strip()\n",
    "\n",
    "\n",
    "def plot_hidden_flow(\n",
    "    mt,\n",
    "    prompt,\n",
    "    subject=None,\n",
    "    samples=10,\n",
    "    noise=0.1,\n",
    "    window=10,\n",
    "    kind=None,\n",
    "    savepdf=None,\n",
    "):\n",
    "    if subject is None:\n",
    "        subject = guess_subject(prompt)\n",
    "    result = calculate_hidden_flow(\n",
    "        mt,\n",
    "        prompt,\n",
    "        subject,\n",
    "        samples=samples,\n",
    "        noise=noise,\n",
    "        window=window,\n",
    "        kind=kind,\n",
    "    )\n",
    "    plot_trace_heatmap(result, savepdf)\n",
    "\n",
    "\n",
    "def plot_trace_heatmap(result, savepdf=None, title=None, xlabel=None, modelname=None):\n",
    "    # print(result)\n",
    "    differences = result[\"scores\"]\n",
    "    low_score = result[\"low_score\"]\n",
    "    answer = result[\"answer\"]\n",
    "    kind = (\n",
    "        None\n",
    "        if (not result[\"kind\"] or result[\"kind\"] == \"None\")\n",
    "        else str(result[\"kind\"])\n",
    "    )\n",
    "    window = result.get(\"window\", 10)\n",
    "    labels = list(result[\"input_tokens\"])\n",
    "    for i in range(*result[\"subject_range\"]):\n",
    "        labels[i] = labels[i] + \"*\"\n",
    "    with plt.rc_context(rc={\"font.family\": \"Times New Roman\", \"font.size\": 4}):\n",
    "        fig, ax = plt.subplots(figsize=(4, 2), dpi=200)\n",
    "        h = ax.pcolor(\n",
    "            differences,\n",
    "            cmap={None: \"Purples\", \"None\": \"Purples\", \"mlp\": \"Greens\", \"attn\": \"Reds\"}[\n",
    "                kind\n",
    "            ],\n",
    "            vmin=low_score,\n",
    "        )\n",
    "        ax.invert_yaxis()\n",
    "        ax.set_yticks([0.5 + i for i in range(len(differences))])\n",
    "        ax.set_xticks([0.5 + i for i in range(0, differences.shape[1] - 6, 5)])\n",
    "        ax.set_xticklabels(list(range(0, differences.shape[1] - 6, 5)))\n",
    "        ax.set_yticklabels(labels[-len(differences) :])\n",
    "        if not modelname:\n",
    "            modelname = \"GPT\"\n",
    "        if not kind:\n",
    "            ax.set_title(\"Impact of restoring state after corrupted input\")\n",
    "            ax.set_xlabel(f\"single restored layer within {modelname}\")\n",
    "        else:\n",
    "            kindname = \"MLP\" if kind == \"mlp\" else \"Attn\"\n",
    "            ax.set_title(f\"Impact of restoring {kindname} after corrupted input in {modelname}\")\n",
    "            ax.set_xlabel(f\"center of interval of {window} restored {kindname} layers\")\n",
    "        cb = plt.colorbar(h)\n",
    "        if title is not None:\n",
    "            ax.set_title(title)\n",
    "        if xlabel is not None:\n",
    "            ax.set_xlabel(xlabel)\n",
    "        elif answer is not None:\n",
    "            # The following should be cb.ax.set_xlabel, but this is broken in matplotlib 3.5.1.\n",
    "            cb.ax.set_title(f\"p({str(answer).strip()})\", y=-0.16, fontsize=5)\n",
    "        if savepdf:\n",
    "            os.makedirs(os.path.dirname(savepdf), exist_ok=True)\n",
    "            plt.savefig(savepdf, bbox_inches=\"tight\")\n",
    "            plt.close()\n",
    "        else:\n",
    "            plt.show()\n",
    "\n",
    "def plot_all_flow(mt, prompt, subject=None):\n",
    "    for kind in [\"mlp\", \"attn\"]:\n",
    "        plot_hidden_flow(mt, prompt, subject, kind=kind)\n",
    "\n",
    "\n",
    "# Utilities for dealing with tokens\n",
    "def make_inputs(tokenizer, prompts, device=\"cuda\"):\n",
    "    token_lists = [tokenizer.encode(p) for p in prompts]\n",
    "    if token_lists == []:\n",
    "        print(f\"Buggy prompt: {prompts}\")\n",
    "    maxlen = max(len(t) for t in token_lists)\n",
    "    if \"[PAD]\" in tokenizer.all_special_tokens:\n",
    "        pad_id = tokenizer.all_special_ids[tokenizer.all_special_tokens.index(\"[PAD]\")]\n",
    "    else:\n",
    "        pad_id = 0\n",
    "    input_ids = [[pad_id] * (maxlen - len(t)) + t for t in token_lists]\n",
    "    # position_ids = [[0] * (maxlen - len(t)) + list(range(len(t))) for t in token_lists]\n",
    "    attention_mask = [[0] * (maxlen - len(t)) + [1] * len(t) for t in token_lists]\n",
    "    return dict(\n",
    "        input_ids=torch.tensor(input_ids).to(device),\n",
    "        #    position_ids=torch.tensor(position_ids).to(device),\n",
    "        attention_mask=torch.tensor(attention_mask).to(device),\n",
    "    )\n",
    "\n",
    "\n",
    "def decode_tokens(tokenizer, token_array):\n",
    "    if hasattr(token_array, \"shape\") and len(token_array.shape) > 1:\n",
    "        return [decode_tokens(tokenizer, row) for row in token_array]\n",
    "    return [tokenizer.decode([t]) for t in token_array]\n",
    "\n",
    "def find_token_range(tokenizer, token_array, substring):\n",
    "    toks = decode_tokens(tokenizer, token_array)\n",
    "    # print(f\"Rahul the display modelname is {display_modelname}\")\n",
    "    if display_modelname != 'phi':\n",
    "        whole_string = tokenizer.decode(token_array).replace(' ', '')\n",
    "        sub = substring.replace(' ', '')\n",
    "    else:\n",
    "        whole_string = ''.join(toks)\n",
    "        sub = substring.strip() \n",
    "    char_loc = whole_string.rindex(sub)\n",
    "    loc = 0\n",
    "    tok_start, tok_end = None, None\n",
    "    all_spans = []\n",
    "    cur=0\n",
    "    for i, t in enumerate(toks):\n",
    "        loc += len(t)\n",
    "        if tok_start is None and loc > char_loc:\n",
    "            tok_start = i\n",
    "        if tok_end is None and loc >= char_loc + len(sub):\n",
    "            tok_end = i + 1\n",
    "            cur+=1\n",
    "            return tok_start, tok_end\n",
    "\n",
    "def predict_token(mt, prompts, return_p=False):\n",
    "    inp = make_inputs(mt.tokenizer, prompts)\n",
    "    preds, p = predict_from_input(mt.model, inp)\n",
    "    result = [mt.tokenizer.decode(c) for c in preds]\n",
    "    if return_p:\n",
    "        result = (result, p)\n",
    "    return result\n",
    "\n",
    "def predict_topk(mt, prompts, k=5):\n",
    "    inp = make_inputs(mt.tokenizer, prompts)\n",
    "    indices, probs = predict_topk_logits(mt.model, inp, k=k)\n",
    "    top_tokens = []\n",
    "    for topk in indices:\n",
    "        top_tokens.append([mt.tokenizer.decode(t) for t in topk])\n",
    "    return top_tokens, probs\n",
    "\n",
    "\n",
    "def predict_from_input(model, inp):\n",
    "    out = model(**inp)[\"logits\"]\n",
    "    probs = torch.softmax(out[:, -1], dim=1)\n",
    "    p, preds = torch.max(probs, dim=1)\n",
    "    return preds, p\n",
    "\n",
    "def predict_topk_logits(model, inp, k=5):\n",
    "    out = model(**inp)[\"logits\"]\n",
    "    probs = torch.softmax(out[:, -1], dim=1)\n",
    "    values, indices = torch.topk(probs, k=k, dim=1)\n",
    "    return indices, values.detach().cpu().numpy().tolist()\n",
    "    \n",
    "\n",
    "\n",
    "def collect_embedding_std(mt, subjects):\n",
    "    alldata = []\n",
    "    for s in subjects:\n",
    "        inp = make_inputs(mt.tokenizer, [s])\n",
    "        with nethook.Trace(mt.model, layername(mt.model, 0, \"embed\")) as t:\n",
    "            mt.model(**inp)\n",
    "            alldata.append(t.output[0])\n",
    "    alldata = torch.cat(alldata)\n",
    "    noise_level = alldata.std().item()\n",
    "    return noise_level\n",
    "\n",
    "\n",
    "def get_embedding_cov(mt):\n",
    "    model = mt.model\n",
    "    tokenizer = mt.tokenizer\n",
    "\n",
    "    def get_ds():\n",
    "        ds_name = \"wikitext\"\n",
    "        raw_ds = load_dataset(\n",
    "            ds_name,\n",
    "            dict(wikitext=\"wikitext-103-raw-v1\", wikipedia=\"20200501.en\")[ds_name],\n",
    "        )\n",
    "        try:\n",
    "            maxlen = model.config.n_positions\n",
    "        except:\n",
    "            maxlen = 100  # Hack due to missing setting in GPT2-NeoX.\n",
    "        return TokenizedDataset(raw_ds[\"train\"], tokenizer, maxlen=maxlen)\n",
    "\n",
    "    ds = get_ds()\n",
    "    sample_size = 1000\n",
    "    batch_size = 5\n",
    "    filename = None\n",
    "    batch_tokens = 100\n",
    "\n",
    "    progress = lambda x, **k: x\n",
    "\n",
    "    stat = Covariance()\n",
    "    loader = tally(\n",
    "        stat,\n",
    "        ds,\n",
    "        cache=filename,\n",
    "        sample_size=sample_size,\n",
    "        batch_size=batch_size,\n",
    "        collate_fn=length_collation(batch_tokens),\n",
    "        pin_memory=True,\n",
    "        random_sample=1,\n",
    "        num_workers=0,\n",
    "    )\n",
    "    with torch.no_grad():\n",
    "        for batch_group in loader:\n",
    "            for batch in batch_group:\n",
    "                batch = dict_to_(batch, \"cuda\")\n",
    "                del batch[\"position_ids\"]\n",
    "                with nethook.Trace(model, layername(mt.model, 0, \"embed\")) as tr:\n",
    "                    model(**batch)\n",
    "                feats = flatten_masked_batch(tr.output, batch[\"attention_mask\"])\n",
    "                stat.add(feats.cpu().double())\n",
    "    return stat.mean(), stat.covariance()\n",
    "\n",
    "\n",
    "def make_generator_transform(mean=None, cov=None):\n",
    "    d = len(mean) if mean is not None else len(cov)\n",
    "    device = mean.device if mean is not None else cov.device\n",
    "    layer = torch.nn.Linear(d, d, dtype=torch.double)\n",
    "    nethook.set_requires_grad(False, layer)\n",
    "    layer.to(device)\n",
    "    layer.bias[...] = 0 if mean is None else mean\n",
    "    if cov is None:\n",
    "        layer.weight[...] = torch.eye(d).to(device)\n",
    "    else:\n",
    "        _, s, v = cov.svd()\n",
    "        w = s.sqrt()[None, :] * v\n",
    "        layer.weight[...] = w\n",
    "    return layer\n",
    "\n",
    "\n",
    "def collect_embedding_gaussian(mt):\n",
    "    m, c = get_embedding_cov(mt)\n",
    "    return make_generator_transform(m, c)\n",
    "\n",
    "\n",
    "def collect_embedding_tdist(mt, degree=3):\n",
    "    # We will sample sqrt(degree / u) * sample, where u is from the chi2[degree] dist.\n",
    "    # And this will give us variance is (degree / degree - 2) * cov.\n",
    "    # Therefore if we want to match the sample variance, we should\n",
    "    # reduce cov by a factor of (degree - 2) / degree.\n",
    "    # In other words we should be sampling sqrt(degree - 2 / u) * sample.\n",
    "    u_sample = torch.from_numpy(\n",
    "        numpy.random.RandomState(2).chisquare(df=degree, size=1000)\n",
    "    )\n",
    "    fixed_sample = ((degree - 2) / u_sample).sqrt()\n",
    "    mvg = collect_embedding_gaussian(mt)\n",
    "\n",
    "    def normal_to_student(x):\n",
    "        gauss = mvg(x)\n",
    "        size = gauss.shape[:-1].numel()\n",
    "        factor = fixed_sample[:size].reshape(gauss.shape[:-1] + (1,))\n",
    "        student = factor * gauss\n",
    "        return student\n",
    "\n",
    "    return normal_to_student"
   ]
  },
  {
   "cell_type": "code",
   "execution_count": 8,
   "metadata": {},
   "outputs": [
    {
     "name": "stderr",
     "output_type": "stream",
     "text": [
      "Special tokens have been added in the vocabulary, make sure the associated word embeddings are fine-tuned or trained.\n"
     ]
    },
    {
     "data": {
      "application/vnd.jupyter.widget-view+json": {
       "model_id": "6d0df448122c4e93be583f3b8d51b078",
       "version_major": 2,
       "version_minor": 0
      },
      "text/plain": [
       "Loading checkpoint shards:   0%|          | 0/2 [00:00<?, ?it/s]"
      ]
     },
     "metadata": {},
     "output_type": "display_data"
    },
    {
     "name": "stdout",
     "output_type": "stream",
     "text": [
      "Loaded dataset with 978 elements\n",
      "Using noise_level 0.088691096752882 to match model times 3.0\n"
     ]
    },
    {
     "name": "stderr",
     "output_type": "stream",
     "text": [
      "1it [00:01,  1.21s/it]"
     ]
    },
    {
     "name": "stdout",
     "output_type": "stream",
     "text": [
      "0.8467361330986023 1.991750878005405e-06\n"
     ]
    },
    {
     "name": "stderr",
     "output_type": "stream",
     "text": [
      "2it [00:02,  1.20s/it]"
     ]
    },
    {
     "name": "stdout",
     "output_type": "stream",
     "text": [
      "0.9233982563018799 0.08526185899972916\n"
     ]
    },
    {
     "name": "stderr",
     "output_type": "stream",
     "text": [
      "3it [00:03,  1.25s/it]"
     ]
    },
    {
     "name": "stdout",
     "output_type": "stream",
     "text": [
      "0.9955139756202698 0.00011905135033885017\n"
     ]
    },
    {
     "name": "stderr",
     "output_type": "stream",
     "text": [
      "4it [00:04,  1.21s/it]"
     ]
    },
    {
     "name": "stdout",
     "output_type": "stream",
     "text": [
      "0.6672555804252625 0.016246676445007324\n"
     ]
    },
    {
     "name": "stderr",
     "output_type": "stream",
     "text": [
      "5it [00:06,  1.20s/it]"
     ]
    },
    {
     "name": "stdout",
     "output_type": "stream",
     "text": [
      "0.9640746116638184 0.32105064392089844\n"
     ]
    },
    {
     "name": "stderr",
     "output_type": "stream",
     "text": [
      "6it [00:07,  1.20s/it]"
     ]
    },
    {
     "name": "stdout",
     "output_type": "stream",
     "text": [
      "0.9767480492591858 0.03673586994409561\n"
     ]
    },
    {
     "name": "stderr",
     "output_type": "stream",
     "text": [
      "7it [00:08,  1.25s/it]"
     ]
    },
    {
     "name": "stdout",
     "output_type": "stream",
     "text": [
      "0.5865679979324341 0.04279530793428421\n"
     ]
    },
    {
     "name": "stderr",
     "output_type": "stream",
     "text": [
      "8it [00:09,  1.23s/it]"
     ]
    },
    {
     "name": "stdout",
     "output_type": "stream",
     "text": [
      "0.7720066905021667 0.0027021400164812803\n"
     ]
    },
    {
     "name": "stderr",
     "output_type": "stream",
     "text": [
      "9it [00:10,  1.22s/it]"
     ]
    },
    {
     "name": "stdout",
     "output_type": "stream",
     "text": [
      "0.9971508383750916 0.01261222641915083\n"
     ]
    },
    {
     "name": "stderr",
     "output_type": "stream",
     "text": [
      "10it [00:12,  1.18s/it]"
     ]
    },
    {
     "name": "stdout",
     "output_type": "stream",
     "text": [
      "0.833116888999939 0.007202466018497944\n"
     ]
    },
    {
     "name": "stderr",
     "output_type": "stream",
     "text": [
      "11it [00:13,  1.18s/it]"
     ]
    },
    {
     "name": "stdout",
     "output_type": "stream",
     "text": [
      "0.7375316619873047 0.00011809646821347997\n"
     ]
    },
    {
     "name": "stderr",
     "output_type": "stream",
     "text": [
      "12it [00:14,  1.22s/it]"
     ]
    },
    {
     "name": "stdout",
     "output_type": "stream",
     "text": [
      "0.6344130635261536 7.151112981773622e-07\n"
     ]
    },
    {
     "name": "stderr",
     "output_type": "stream",
     "text": [
      "13it [00:15,  1.20s/it]"
     ]
    },
    {
     "name": "stdout",
     "output_type": "stream",
     "text": [
      "0.57122403383255 0.03830721601843834\n"
     ]
    },
    {
     "name": "stderr",
     "output_type": "stream",
     "text": [
      "14it [00:16,  1.20s/it]"
     ]
    },
    {
     "name": "stdout",
     "output_type": "stream",
     "text": [
      "0.7283480763435364 5.966322714812122e-05\n"
     ]
    },
    {
     "name": "stderr",
     "output_type": "stream",
     "text": [
      "15it [00:18,  1.19s/it]"
     ]
    },
    {
     "name": "stdout",
     "output_type": "stream",
     "text": [
      "0.9687817096710205 0.031039157882332802\n"
     ]
    },
    {
     "name": "stderr",
     "output_type": "stream",
     "text": [
      "16it [00:19,  1.19s/it]"
     ]
    },
    {
     "name": "stdout",
     "output_type": "stream",
     "text": [
      "0.992501974105835 0.014789042063057423\n"
     ]
    },
    {
     "name": "stderr",
     "output_type": "stream",
     "text": [
      "17it [00:20,  1.19s/it]"
     ]
    },
    {
     "name": "stdout",
     "output_type": "stream",
     "text": [
      "0.9604940414428711 0.12889501452445984\n"
     ]
    },
    {
     "name": "stderr",
     "output_type": "stream",
     "text": [
      "18it [00:21,  1.24s/it]"
     ]
    },
    {
     "name": "stdout",
     "output_type": "stream",
     "text": [
      "0.9588618874549866 0.0047570387832820415\n"
     ]
    },
    {
     "name": "stderr",
     "output_type": "stream",
     "text": [
      "19it [00:23,  1.26s/it]"
     ]
    },
    {
     "name": "stdout",
     "output_type": "stream",
     "text": [
      "0.43039947748184204 0.00042327967821620405\n"
     ]
    },
    {
     "name": "stderr",
     "output_type": "stream",
     "text": [
      "20it [00:24,  1.24s/it]"
     ]
    },
    {
     "name": "stdout",
     "output_type": "stream",
     "text": [
      "0.8527289032936096 0.010344317182898521\n"
     ]
    },
    {
     "name": "stderr",
     "output_type": "stream",
     "text": [
      "21it [00:25,  1.22s/it]"
     ]
    },
    {
     "name": "stdout",
     "output_type": "stream",
     "text": [
      "0.986227810382843 0.000272219767794013\n"
     ]
    },
    {
     "name": "stderr",
     "output_type": "stream",
     "text": [
      "22it [00:26,  1.21s/it]"
     ]
    },
    {
     "name": "stdout",
     "output_type": "stream",
     "text": [
      "0.9925681352615356 0.3744414746761322\n"
     ]
    },
    {
     "name": "stderr",
     "output_type": "stream",
     "text": [
      "23it [00:27,  1.18s/it]"
     ]
    },
    {
     "name": "stdout",
     "output_type": "stream",
     "text": [
      "0.9765135645866394 0.00427336385473609\n"
     ]
    },
    {
     "name": "stderr",
     "output_type": "stream",
     "text": [
      "24it [00:28,  1.18s/it]"
     ]
    },
    {
     "name": "stdout",
     "output_type": "stream",
     "text": [
      "0.9363675713539124 0.023652995005249977\n"
     ]
    },
    {
     "name": "stderr",
     "output_type": "stream",
     "text": [
      "25it [00:30,  1.19s/it]"
     ]
    },
    {
     "name": "stdout",
     "output_type": "stream",
     "text": [
      "0.8875800967216492 0.10466887056827545\n"
     ]
    },
    {
     "name": "stderr",
     "output_type": "stream",
     "text": [
      "26it [00:31,  1.16s/it]"
     ]
    },
    {
     "name": "stdout",
     "output_type": "stream",
     "text": [
      "0.5461442470550537 0.0031496684532612562\n"
     ]
    },
    {
     "name": "stderr",
     "output_type": "stream",
     "text": [
      "27it [00:32,  1.17s/it]"
     ]
    },
    {
     "name": "stdout",
     "output_type": "stream",
     "text": [
      "0.7857562303543091 0.0003492330142762512\n"
     ]
    },
    {
     "name": "stderr",
     "output_type": "stream",
     "text": [
      "28it [00:33,  1.18s/it]"
     ]
    },
    {
     "name": "stdout",
     "output_type": "stream",
     "text": [
      "0.3947739601135254 0.011310967616736889\n"
     ]
    },
    {
     "name": "stderr",
     "output_type": "stream",
     "text": [
      "29it [00:35,  1.23s/it]"
     ]
    },
    {
     "name": "stdout",
     "output_type": "stream",
     "text": [
      "0.9732311367988586 0.05415726825594902\n"
     ]
    },
    {
     "name": "stderr",
     "output_type": "stream",
     "text": [
      "30it [00:36,  1.21s/it]"
     ]
    },
    {
     "name": "stdout",
     "output_type": "stream",
     "text": [
      "0.8167139887809753 0.22499719262123108\n"
     ]
    },
    {
     "name": "stderr",
     "output_type": "stream",
     "text": [
      "31it [00:37,  1.20s/it]"
     ]
    },
    {
     "name": "stdout",
     "output_type": "stream",
     "text": [
      "0.9875786900520325 6.284496976149967e-06\n"
     ]
    },
    {
     "name": "stderr",
     "output_type": "stream",
     "text": [
      "32it [00:38,  1.26s/it]"
     ]
    },
    {
     "name": "stdout",
     "output_type": "stream",
     "text": [
      "0.9704923629760742 0.12464257329702377\n"
     ]
    },
    {
     "name": "stderr",
     "output_type": "stream",
     "text": [
      "33it [00:39,  1.24s/it]"
     ]
    },
    {
     "name": "stdout",
     "output_type": "stream",
     "text": [
      "0.6831072568893433 0.02936590276658535\n"
     ]
    },
    {
     "name": "stderr",
     "output_type": "stream",
     "text": [
      "34it [00:41,  1.28s/it]"
     ]
    },
    {
     "name": "stdout",
     "output_type": "stream",
     "text": [
      "0.9831761121749878 0.06349567323923111\n"
     ]
    },
    {
     "name": "stderr",
     "output_type": "stream",
     "text": [
      "35it [00:42,  1.30s/it]"
     ]
    },
    {
     "name": "stdout",
     "output_type": "stream",
     "text": [
      "0.9953244924545288 0.05562729388475418\n"
     ]
    },
    {
     "name": "stderr",
     "output_type": "stream",
     "text": [
      "36it [00:43,  1.27s/it]"
     ]
    },
    {
     "name": "stdout",
     "output_type": "stream",
     "text": [
      "0.4414844810962677 0.02793184481561184\n"
     ]
    },
    {
     "name": "stderr",
     "output_type": "stream",
     "text": [
      "37it [00:45,  1.25s/it]"
     ]
    },
    {
     "name": "stdout",
     "output_type": "stream",
     "text": [
      "0.9890928268432617 0.00031855222187004983\n"
     ]
    },
    {
     "name": "stderr",
     "output_type": "stream",
     "text": [
      "38it [00:46,  1.22s/it]"
     ]
    },
    {
     "name": "stdout",
     "output_type": "stream",
     "text": [
      "0.5230159163475037 0.00041111442260444164\n"
     ]
    },
    {
     "name": "stderr",
     "output_type": "stream",
     "text": [
      "39it [00:47,  1.21s/it]"
     ]
    },
    {
     "name": "stdout",
     "output_type": "stream",
     "text": [
      "0.9833664894104004 0.05487748607993126\n"
     ]
    },
    {
     "name": "stderr",
     "output_type": "stream",
     "text": [
      "40it [00:48,  1.18s/it]"
     ]
    },
    {
     "name": "stdout",
     "output_type": "stream",
     "text": [
      "0.9752951264381409 0.16266663372516632\n"
     ]
    },
    {
     "name": "stderr",
     "output_type": "stream",
     "text": [
      "41it [00:49,  1.26s/it]"
     ]
    },
    {
     "name": "stdout",
     "output_type": "stream",
     "text": [
      "0.7956327199935913 0.07598939538002014\n"
     ]
    },
    {
     "name": "stderr",
     "output_type": "stream",
     "text": [
      "42it [00:51,  1.29s/it]"
     ]
    },
    {
     "name": "stdout",
     "output_type": "stream",
     "text": [
      "0.9306607246398926 0.11191679537296295\n"
     ]
    },
    {
     "name": "stderr",
     "output_type": "stream",
     "text": [
      "43it [00:52,  1.30s/it]"
     ]
    },
    {
     "name": "stdout",
     "output_type": "stream",
     "text": [
      "0.709438681602478 0.11893528699874878\n"
     ]
    },
    {
     "name": "stderr",
     "output_type": "stream",
     "text": [
      "44it [00:53,  1.30s/it]"
     ]
    },
    {
     "name": "stdout",
     "output_type": "stream",
     "text": [
      "0.9563567638397217 0.017920872196555138\n"
     ]
    },
    {
     "name": "stderr",
     "output_type": "stream",
     "text": [
      "45it [00:55,  1.32s/it]"
     ]
    },
    {
     "name": "stdout",
     "output_type": "stream",
     "text": [
      "0.9894819259643555 0.01324319839477539\n"
     ]
    },
    {
     "name": "stderr",
     "output_type": "stream",
     "text": [
      "46it [00:56,  1.28s/it]"
     ]
    },
    {
     "name": "stdout",
     "output_type": "stream",
     "text": [
      "0.6744629144668579 0.004019498825073242\n"
     ]
    },
    {
     "name": "stderr",
     "output_type": "stream",
     "text": [
      "47it [00:57,  1.25s/it]"
     ]
    },
    {
     "name": "stdout",
     "output_type": "stream",
     "text": [
      "0.9761465191841125 0.07094071060419083\n"
     ]
    },
    {
     "name": "stderr",
     "output_type": "stream",
     "text": [
      "48it [00:59,  1.28s/it]"
     ]
    },
    {
     "name": "stdout",
     "output_type": "stream",
     "text": [
      "0.982337474822998 0.0015452743973582983\n"
     ]
    },
    {
     "name": "stderr",
     "output_type": "stream",
     "text": [
      "49it [01:00,  1.30s/it]"
     ]
    },
    {
     "name": "stdout",
     "output_type": "stream",
     "text": [
      "0.9859986305236816 0.004179246723651886\n"
     ]
    },
    {
     "name": "stderr",
     "output_type": "stream",
     "text": [
      "50it [01:01,  1.31s/it]"
     ]
    },
    {
     "name": "stdout",
     "output_type": "stream",
     "text": [
      "0.9660666584968567 0.004913886543363333\n"
     ]
    },
    {
     "name": "stderr",
     "output_type": "stream",
     "text": [
      "51it [01:03,  1.24s/it]"
     ]
    },
    {
     "name": "stdout",
     "output_type": "stream",
     "text": [
      "0.8479811549186707 0.0009469115175306797\n"
     ]
    },
    {
     "name": "stderr",
     "output_type": "stream",
     "text": [
      "\n"
     ]
    }
   ],
   "source": [
    "mt = ModelAndTokenizer(\"microsoft/phi-2\")\n",
    "\n",
    "knowns = KnownsDataset(known_loc='/work/pi_dhruveshpate_umass_edu/rseetharaman_umass_edu/repo-for-paper/attention-contributions-llama/datasets/RAG_data_with_object_at_0.json')  # Dataset of known facts\n",
    "\n",
    "noise_level = \"s3\"\n",
    "uniform_noise = False\n",
    "if isinstance(noise_level, str):\n",
    "    if noise_level.startswith(\"s\"):\n",
    "        # Automatic spherical gaussian\n",
    "        factor = float(noise_level[1:]) if len(noise_level) > 1 else 1.0\n",
    "        noise_level = factor * collect_embedding_std(\n",
    "            mt, [k[\"subject\"] for k in knowns]\n",
    "        )\n",
    "        print(f\"Using noise_level {noise_level} to match model times {factor}\")\n",
    "    elif noise_level == \"m\":\n",
    "        # Automatic multivariate gaussian\n",
    "        noise_level = collect_embedding_gaussian(mt)\n",
    "        print(f\"Using multivariate gaussian to match model noise\")\n",
    "    elif noise_level.startswith(\"t\"):\n",
    "        # Automatic d-distribution with d degrees of freedom\n",
    "        degrees = float(noise_level[1:])\n",
    "        noise_level = collect_embedding_tdist(mt, degrees)\n",
    "    elif noise_level.startswith(\"u\"):\n",
    "        uniform_noise = True\n",
    "        noise_level = float(noise_level[1:])\n",
    "\n",
    "random.Random(42).shuffle(knowns)\n",
    "scores = []\n",
    "\n",
    "for i,_ in tqdm(enumerate(knowns)):\n",
    "    # print(f\"Rahul: at index {i}\")\n",
    "    if i > 50:\n",
    "        break\n",
    "    known_id = knowns[i][\"known_id\"]\n",
    "    random.shuffle(knowns[i]['context'])\n",
    "    rag_context = '\\n'.join(knowns[i]['context'])\n",
    "    \n",
    "    prefix = f\"\"\"USING CONTEXT ONLY AND NOT INTERNAL KNOWLEDGE, COMPLETE THE ANSWER. Context:\\n {rag_context}\\n Answer: \"\"\"\n",
    "    knowns[i]['prompt'] = prefix+knowns[i]['user_query']\n",
    "\n",
    "    masking_span = prefix\n",
    "    \n",
    "    high, low = get_score(\n",
    "        mt,\n",
    "        knowns[i][\"prompt\"],\n",
    "        masking_span,\n",
    "        noise=noise_level                \n",
    "    )\n",
    "    print(high, low)\n",
    "    scores.append((high, low))\n"
   ]
  },
  {
   "cell_type": "code",
   "execution_count": 21,
   "metadata": {},
   "outputs": [],
   "source": [
    "import os \n",
    "\n",
    "ids1 = os.listdir(\"/work/pi_dhruveshpate_umass_edu/rseetharaman_umass_edu/knowledge-perception/rome/results-final/phi_vanilla/pdfs\")\n",
    "ids1 = set([i.split(\"_\")[1] for i in ids1])\n",
    "\n",
    "\n",
    "ids2 = os.listdir(\"/work/pi_dhruveshpate_umass_edu/rseetharaman_umass_edu/knowledge-perception/rome/results-final/llama_vanilla/pdfs\")\n",
    "ids2 = set([i.split(\"_\")[1] for i in ids2])"
   ]
  },
  {
   "cell_type": "code",
   "execution_count": 4,
   "metadata": {},
   "outputs": [
    {
     "data": {
      "image/png": "[encoded data removed]",
      "text/plain": [
       "<Figure size 640x480 with 1 Axes>"
      ]
     },
     "metadata": {},
     "output_type": "display_data"
    }
   ],
   "source": [
    "import matplotlib.pyplot as plt\n",
    "\n",
    "# Data from your list\n",
    "data = \"\"\"\n",
    "0.9866069555282593 7.969379657879472e-05\n",
    "0.4732622802257538 0.00688205985352397\n",
    "0.9879531264305115 0.00018526994972489774\n",
    "0.7379751205444336 0.0010702613508328795\n",
    "0.5430764555931091 0.04721590504050255\n",
    "0.9797723293304443 0.001125798444263637\n",
    "0.35983461141586304 0.000362472579581663\n",
    "0.2140263170003891 0.014984316192567348\n",
    "0.9691335558891296 1.388391865475569e-05\n",
    "0.708112359046936 0.0006585358059965074\n",
    "0.8476535081863403 3.3349311706842855e-05\n",
    "0.5361671447753906 9.385454404764459e-07\n",
    "0.24803784489631653 0.012952195480465889\n",
    "0.8069132566452026 0.0003555658913683146\n",
    "0.9587907791137695 0.0009526228532195091\n",
    "0.9660929441452026 0.0017593996599316597\n",
    "0.24187912046909332 2.646708935571951e-06\n",
    "0.5945375561714172 0.00440006610006094\n",
    "0.5642836689949036 0.0004170921165496111\n",
    "0.9671798348426819 3.363762516528368e-05\n",
    "0.21954922378063202 0.000217923239688389\n",
    "0.9468092918395996 0.0077264816500246525\n",
    "0.9674734473228455 0.00016668644093442708\n",
    "0.8169605135917664 0.0011316349264234304\n",
    "0.39058569073677063 0.16025352478027344\n",
    "0.6864497661590576 0.001904751523397863\n",
    "0.7552317976951599 4.193380391370738e-06\n",
    "0.9735480546951294 0.0012243519304320216\n",
    "0.48164036870002747 0.0007621957338415086\n",
    "0.25989866256713867 0.0340917594730854\n",
    "0.9633808732032776 2.301134736626409e-05\n",
    "0.9042828679084778 0.0005216260906308889\n",
    "0.4512379467487335 0.06297965347766876\n",
    "0.9933866858482361 0.0008901452529244125\n",
    "0.5083252787590027 5.261739488560124e-07\n",
    "0.9712671637535095 0.050230395048856735\n",
    "0.8922507762908936 0.07366945594549179\n",
    "0.5891431570053101 9.369391591462772e-06\n",
    "0.5369146466255188 0.047776129096746445\n",
    "0.9573385119438171 0.015655135735869408\n",
    "0.7260503768920898 0.03357398137450218\n",
    "0.9661385416984558 0.0035448558628559113\n",
    "0.5084898471832275 0.0012985465582460165\n",
    "0.9808608889579773 0.0001786233187885955\n",
    "0.4094831049442291 0.07706622779369354\n",
    "0.24202892184257507 0.10077019780874252\n",
    "0.4610254168510437 0.004405356477946043\n",
    "0.7778217792510986 0.0005928561440669\n",
    "0.7973071932792664 0.0003573252761270851\n",
    "0.8900036215782166 0.0012839752016589046\n",
    "0.6745298504829407 0.0017677907599136233\n",
    "\"\"\"\n",
    "\n",
    "# Convert the string data into a list of pairs of floats\n",
    "lines = data.strip().split('\\n')\n",
    "list1 = []\n",
    "list2 = []\n",
    "\n",
    "for i in range(0, len(lines), 2):\n",
    "    list1.append(float(lines[i].split()[0]))\n",
    "    list2.append(float(lines[i].split()[1]))\n",
    "\n",
    "# Scatter plot\n",
    "plt.scatter(range(len(list1)), list1, color='green', label='Before corruption')\n",
    "plt.scatter(range(len(list2)), list2, color='red', label='After corruption')\n",
    "plt.xlabel('Index')\n",
    "plt.ylabel('Values')\n",
    "plt.title('Before and After corruption scatter plot for counterfactual RAG')\n",
    "plt.legend()\n",
    "plt.show()\n"
   ]
  },
  {
   "cell_type": "code",
   "execution_count": 9,
   "metadata": {},
   "outputs": [
    {
     "data": {
      "image/png": "[encoded data removed]",
      "text/plain": [
       "<Figure size 640x480 with 1 Axes>"
      ]
     },
     "metadata": {},
     "output_type": "display_data"
    }
   ],
   "source": [
    "import matplotlib.pyplot as plt\n",
    "\n",
    "# Given data\n",
    "data = \"\"\"\n",
    "0.8467361330986023 1.991750878005405e-06\n",
    "0.9233982563018799 0.08526185899972916\n",
    "0.9955139756202698 0.00011905135033885017\n",
    "0.6672555804252625 0.016246676445007324\n",
    "0.9640746116638184 0.32105064392089844\n",
    "0.9767480492591858 0.03673586994409561\n",
    "0.5865679979324341 0.04279530793428421\n",
    "0.7720066905021667 0.0027021400164812803\n",
    "0.9971508383750916 0.01261222641915083\n",
    "0.833116888999939 0.007202466018497944\n",
    "0.7375316619873047 0.00011809646821347997\n",
    "0.6344130635261536 7.151112981773622e-07\n",
    "0.57122403383255 0.03830721601843834\n",
    "0.7283480763435364 5.966322714812122e-05\n",
    "0.9687817096710205 0.031039157882332802\n",
    "0.992501974105835 0.014789042063057423\n",
    "0.9604940414428711 0.12889501452445984\n",
    "0.9588618874549866 0.0047570387832820415\n",
    "0.43039947748184204 0.00042327967821620405\n",
    "0.8527289032936096 0.010344317182898521\n",
    "0.986227810382843 0.000272219767794013\n",
    "0.9925681352615356 0.3744414746761322\n",
    "0.9765135645866394 0.00427336385473609\n",
    "0.9363675713539124 0.023652995005249977\n",
    "0.8875800967216492 0.10466887056827545\n",
    "0.5461442470550537 0.0031496684532612562\n",
    "0.7857562303543091 0.0003492330142762512\n",
    "0.3947739601135254 0.011310967616736889\n",
    "0.9732311367988586 0.05415726825594902\n",
    "0.8167139887809753 0.22499719262123108\n",
    "0.9875786900520325 6.284496976149967e-06\n",
    "0.9704923629760742 0.12464257329702377\n",
    "0.6831072568893433 0.02936590276658535\n",
    "0.9831761121749878 0.06349567323923111\n",
    "0.9953244924545288 0.05562729388475418\n",
    "0.4414844810962677 0.02793184481561184\n",
    "0.9890928268432617 0.00031855222187004983\n",
    "0.5230159163475037 0.00041111442260444164\n",
    "0.9833664894104004 0.05487748607993126\n",
    "0.9752951264381409 0.16266663372516632\n",
    "0.7956327199935913 0.07598939538002014\n",
    "0.9306607246398926 0.11191679537296295\n",
    "0.709438681602478 0.11893528699874878\n",
    "0.9563567638397217 0.017920872196555138\n",
    "0.9894819259643555 0.01324319839477539\n",
    "0.6744629144668579 0.004019498825073242\n",
    "0.9761465191841125 0.07094071060419083\n",
    "0.982337474822998 0.0015452743973582983\n",
    "0.9859986305236816 0.004179246723651886\n",
    "0.9660666584968567 0.004913886543363333\n",
    "0.8479811549186707 0.0009469115175306797\n",
    "\"\"\"\n",
    "\n",
    "# Step 1: Extract pairs\n",
    "pairs = data.strip().split('\\n')\n",
    "\n",
    "# Step 2: Initialize each pair into lists\n",
    "before_corruption = []\n",
    "after_corruption = []\n",
    "\n",
    "for pair in pairs:\n",
    "    before, after = map(float, pair.split())\n",
    "    before_corruption.append(before)\n",
    "    after_corruption.append(after)\n",
    "\n",
    "# Step 3: Plotting the pairs using matplotlib\n",
    "plt.scatter(range(len(before_corruption)), before_corruption, color='green', label='before corruption')\n",
    "plt.scatter(range(len(after_corruption)), after_corruption, color='red', label='after corruption')\n",
    "\n",
    "# Title and legend\n",
    "plt.title('Scatter plot for before and after corruption in RAG - knowns data')\n",
    "plt.legend()\n",
    "\n",
    "# Display the plot\n",
    "plt.show()\n"
   ]
  },
  {
   "cell_type": "code",
   "execution_count": 3,
   "metadata": {},
   "outputs": [
    {
     "name": "stdout",
     "output_type": "stream",
     "text": [
      "45\n"
     ]
    }
   ],
   "source": [
    "import os \n",
    "\n",
    "arch = \"llama\"\n",
    "\n",
    "knowns_ids_1 = os.listdir(f\"../results-rerun/{arch}_knowns/pdfs/\")\n",
    "knowns_ids_1 = [k.split(\"_\")[1] for k in knowns_ids_1]\n",
    "\n",
    "knowns_ids_2 = os.listdir(f\"../results-rerun-vanilla/{arch}_vanilla/pdfs/\")\n",
    "knowns_ids_2 = [k.split(\"_\")[1] for k in knowns_ids_2]\n",
    "\n",
    "import pickle\n",
    "\n",
    "knowns_ids = set(knowns_ids_1) & set(knowns_ids_2)\n",
    "print(len(knowns_ids))\n",
    "\n",
    "pickle.dump(knowns_ids, open(f\"known_ids_{arch}.pkl\", \"wb\"))"
   ]
  },
  {
   "cell_type": "code",
   "execution_count": 41,
   "metadata": {},
   "outputs": [],
   "source": [
    "knowns_ids_2 = os.listdir(\"../results-rerun-vanilla/phi_vanilla/pdfs/\")\n",
    "knowns_ids_2 = [k.split(\"_\")[1] for k in knowns_ids_2]"
   ]
  },
  {
   "cell_type": "code",
   "execution_count": 42,
   "metadata": {},
   "outputs": [],
   "source": [
    "knowns_ids1 = list(set(knowns_ids_1))"
   ]
  },
  {
   "cell_type": "code",
   "execution_count": 43,
   "metadata": {},
   "outputs": [],
   "source": [
    "llama_knowns = knowns_ids_1"
   ]
  },
  {
   "cell_type": "code",
   "execution_count": 44,
   "metadata": {},
   "outputs": [],
   "source": [
    "import pickle\n",
    "pickle.dump(llama_knowns, open(\"known_ids_phi.pkl\", \"wb\"))"
   ]
  },
  {
   "cell_type": "code",
   "execution_count": 45,
   "metadata": {},
   "outputs": [
    {
     "data": {
      "text/plain": [
       "50"
      ]
     },
     "execution_count": 45,
     "metadata": {},
     "output_type": "execute_result"
    }
   ],
   "source": [
    "len(set(knowns_ids_1) & set(knowns_ids_2))"
   ]
  },
  {
   "cell_type": "code",
   "execution_count": 46,
   "metadata": {},
   "outputs": [
    {
     "data": {
      "text/plain": [
       "11"
      ]
     },
     "execution_count": 46,
     "metadata": {},
     "output_type": "execute_result"
    }
   ],
   "source": [
    "len(set(knowns_ids1) ^ (set(knowns_ids_2)))"
   ]
  },
  {
   "cell_type": "code",
   "execution_count": null,
   "metadata": {},
   "outputs": [],
   "source": []
  }
 ],
 "metadata": {
  "kernelspec": {
   "display_name": "Python 3",
   "language": "python",
   "name": "python3"
  },
  "language_info": {
   "codemirror_mode": {
    "name": "ipython",
    "version": 3
   },
   "file_extension": ".py",
   "mimetype": "text/x-python",
   "name": "python",
   "nbconvert_exporter": "python",
   "pygments_lexer": "ipython3",
   "version": "3.9.19"
  }
 },
 "nbformat": 4,
 "nbformat_minor": 2
}
