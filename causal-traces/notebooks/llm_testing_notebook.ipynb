{
 "cells": [
  {
   "cell_type": "code",
   "execution_count": 1,
   "metadata": {},
   "outputs": [],
   "source": [
    "import transformers\n",
    "import pandas as pd\n",
    "import numpy as np\n",
    "import torch \n",
    "from transformers import AutoModelForCausalLM, AutoTokenizer"
   ]
  },
  {
   "cell_type": "code",
   "execution_count": 2,
   "metadata": {},
   "outputs": [],
   "source": [
    "modelname = 'microsoft/phi-2'"
   ]
  },
  {
   "cell_type": "code",
   "execution_count": null,
   "metadata": {},
   "outputs": [],
   "source": [
    "model.model.num_hidden_layers"
   ]
  },
  {
   "cell_type": "code",
   "execution_count": 4,
   "metadata": {},
   "outputs": [],
   "source": [
    "tokenizer = AutoTokenizer.from_pretrained(modelname, cache_dir='/work/pi_dhruveshpate_umass_edu/rseetharaman_umass_edu/.cache')"
   ]
  },
  {
   "cell_type": "code",
   "execution_count": 9,
   "metadata": {},
   "outputs": [],
   "source": [
    "prompt = \"Answer based on the context. Context: Czech Republic national football team is a member of the FIFA. Question: Czech Republic national football team is a member of the\""
   ]
  },
  {
   "cell_type": "code",
   "execution_count": 10,
   "metadata": {},
   "outputs": [],
   "source": [
    "inputs = tokenizer([prompt], return_tensors=\"pt\")"
   ]
  },
  {
   "cell_type": "code",
   "execution_count": 11,
   "metadata": {},
   "outputs": [
    {
     "name": "stderr",
     "output_type": "stream",
     "text": [
      "Setting `pad_token_id` to `eos_token_id`:2 for open-end generation.\n"
     ]
    }
   ],
   "source": [
    "outputs = model.generate(**inputs, max_new_tokens=4, return_dict_in_generate=True, output_scores=True)\n",
    "transition_scores = model.compute_transition_scores(\n",
    "    outputs.sequences, outputs.scores, normalize_logits=True\n",
    ")"
   ]
  },
  {
   "cell_type": "code",
   "execution_count": 12,
   "metadata": {},
   "outputs": [
    {
     "name": "stdout",
     "output_type": "stream",
     "text": [
      "| 28702 | FIFA     | -1.5461 | 21.31%\n",
      "| 28723 | .        | -0.8775 | 41.58%\n",
      "|    13 | \n",
      "        | -2.1048 | 12.19%\n",
      "|    13 | \n",
      "        | -0.2555 | 77.45%\n"
     ]
    }
   ],
   "source": [
    "input_length = inputs.input_ids.shape[1]\n",
    "generated_tokens = outputs.sequences[:, input_length:]\n",
    "for tok, score in zip(generated_tokens[0], transition_scores[0]):\n",
    "    # | token | token string | logits | probability\n",
    "    print(f\"| {tok:5d} | {tokenizer.decode(tok):8s} | {score.numpy():.4f} | {np.exp(score.numpy()):.2%}\")"
   ]
  },
  {
   "cell_type": "code",
   "execution_count": 40,
   "metadata": {},
   "outputs": [],
   "source": [
    "values, indices = torch.topk(torch.softmax(outputs.scores[0], dim=1)[0], 5)"
   ]
  },
  {
   "cell_type": "code",
   "execution_count": 41,
   "metadata": {},
   "outputs": [],
   "source": [
    "results = [tokenizer.decode([idx]) for idx in indices]"
   ]
  },
  {
   "cell_type": "code",
   "execution_count": 7,
   "metadata": {},
   "outputs": [],
   "source": [
    "%load_ext autoreload\n",
    "%autoreload 2"
   ]
  },
  {
   "cell_type": "code",
   "execution_count": 1,
   "metadata": {},
   "outputs": [
    {
     "data": {
      "application/vnd.jupyter.widget-view+json": {
       "model_id": "db2cd0fb3f004e13b0a03d5084cf1173",
       "version_major": 2,
       "version_minor": 0
      },
      "text/plain": [
       "Loading checkpoint shards:   0%|          | 0/4 [00:00<?, ?it/s]"
      ]
     },
     "metadata": {},
     "output_type": "display_data"
    },
    {
     "name": "stdout",
     "output_type": "stream",
     "text": [
      "Loaded dataset with 922 elements\n"
     ]
    }
   ],
   "source": [
    "import torch\n",
    "from tqdm import tqdm\n",
    "import jsonlines\n",
    "from util.globals import DATA_DIR\n",
    "from math import ceil\n",
    "from experiments.causal_trace import ModelAndTokenizer\n",
    "from experiments.causal_trace import (\n",
    "    predict_token, predict_topk\n",
    ")\n",
    "from dsets import KnownsDataset\n",
    "import argparse\n",
    "\n",
    "torch.set_grad_enabled(False)\n",
    "\n",
    "\n",
    "model_name = 'google/gemma-7b'\n",
    "\n",
    "mt = ModelAndTokenizer(\n",
    "    model_name,\n",
    "    low_cpu_mem_usage=False,\n",
    "    torch_dtype=(torch.float16 if \"20b\" in model_name else None),\n",
    ")\n",
    "\n",
    "knowns = KnownsDataset(known_loc=\"data_mistral.jsonl\")  # Dataset of known facts\n",
    "prompts = [k['prompt'] for k in knowns][:10]\n"
   ]
  },
  {
   "cell_type": "code",
   "execution_count": 2,
   "metadata": {},
   "outputs": [],
   "source": [
    "tokens, probs = predict_topk(mt, prompts)"
   ]
  },
  {
   "cell_type": "code",
   "execution_count": 3,
   "metadata": {},
   "outputs": [
    {
     "data": {
      "text/plain": [
       "[[' Apple', ' Beats', ' the', ' Dr', ' a'],\n",
       " [' Amazon', ' the', ' amazon', ' ', ' a'],\n",
       " [' CBS', ' September', ' Thursday', ' ', ' Monday'],\n",
       " [' the', ' a', ' Mac', ' Apple', ' an'],\n",
       " [' Italy', ' both', ' the', ' Italian', ' San'],\n",
       " [' Europe', ' ', ' Eurasia', ' the', ' Asia'],\n",
       " [' English', ' Marshall', ' the', ' both', ' Mic'],\n",
       " [' CBS', ' the', ' Via', ' a', ' which'],\n",
       " [' original', ' language', ' Latin', ' one', ' title'],\n",
       " [' composer', ' author', ' Italian', ' world', ' city']]"
      ]
     },
     "execution_count": 3,
     "metadata": {},
     "output_type": "execute_result"
    }
   ],
   "source": [
    "tokens"
   ]
  },
  {
   "cell_type": "code",
   "execution_count": null,
   "metadata": {},
   "outputs": [],
   "source": []
  }
 ],
 "metadata": {
  "kernelspec": {
   "display_name": "Python 3",
   "language": "python",
   "name": "python3"
  },
  "language_info": {
   "codemirror_mode": {
    "name": "ipython",
    "version": 3
   },
   "file_extension": ".py",
   "mimetype": "text/x-python",
   "name": "python",
   "nbconvert_exporter": "python",
   "pygments_lexer": "ipython3",
   "version": "3.9.19"
  }
 },
 "nbformat": 4,
 "nbformat_minor": 2
}
