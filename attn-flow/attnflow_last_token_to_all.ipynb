{
 "cells": [
  {
   "cell_type": "code",
   "execution_count": 1,
   "metadata": {},
   "outputs": [
    {
     "name": "stderr",
     "output_type": "stream",
     "text": [
      "/home/rseetharaman_umass_edu/.conda/envs/rome/lib/python3.9/site-packages/transformers/utils/generic.py:485: UserWarning: torch.utils._pytree._register_pytree_node is deprecated. Please use torch.utils._pytree.register_pytree_node instead.\n",
      "  _torch_pytree._register_pytree_node(\n"
     ]
    }
   ],
   "source": [
    "import torch\n",
    "from transformers import AutoTokenizer, AutoModelForCausalLM\n",
    "import matplotlib.pyplot as plt\n",
    "plt.style.use(\"ggplot\")\n",
    "import json\n",
    "import numpy as np\n",
    "\n",
    "from attn_contrib import *"
   ]
  },
  {
   "cell_type": "code",
   "execution_count": 2,
   "metadata": {},
   "outputs": [],
   "source": [
    "%load_ext autoreload\n",
    "%autoreload 2"
   ]
  },
  {
   "cell_type": "code",
   "execution_count": 3,
   "metadata": {},
   "outputs": [],
   "source": [
    "device = torch.device(\"cuda\")"
   ]
  },
  {
   "cell_type": "code",
   "execution_count": 4,
   "metadata": {},
   "outputs": [
    {
     "name": "stderr",
     "output_type": "stream",
     "text": [
      "/home/rseetharaman_umass_edu/.conda/envs/rome/lib/python3.9/site-packages/transformers/utils/generic.py:342: UserWarning: torch.utils._pytree._register_pytree_node is deprecated. Please use torch.utils._pytree.register_pytree_node instead.\n",
      "  _torch_pytree._register_pytree_node(\n",
      "/home/rseetharaman_umass_edu/.conda/envs/rome/lib/python3.9/site-packages/transformers/utils/generic.py:342: UserWarning: torch.utils._pytree._register_pytree_node is deprecated. Please use torch.utils._pytree.register_pytree_node instead.\n",
      "  _torch_pytree._register_pytree_node(\n"
     ]
    },
    {
     "data": {
      "application/vnd.jupyter.widget-view+json": {
       "model_id": "3aea9a4f49d6492cb61733d4fa001e71",
       "version_major": 2,
       "version_minor": 0
      },
      "text/plain": [
       "Loading checkpoint shards:   0%|          | 0/2 [00:00<?, ?it/s]"
      ]
     },
     "metadata": {},
     "output_type": "display_data"
    }
   ],
   "source": [
    "model = AutoModelForCausalLM.from_pretrained(\"mistralai/Mistral-7B-Instruct-v0.1\", output_attentions=True, return_dict_in_generate=True,\n",
    "                cache_dir=\"/work/pi_dhruveshpate_umass_edu/rseetharaman_umass_edu/.cache/\").to(device)"
   ]
  },
  {
   "cell_type": "code",
   "execution_count": 5,
   "metadata": {},
   "outputs": [],
   "source": [
    "tokenizer = AutoTokenizer.from_pretrained(\"mistralai/Mistral-7B-Instruct-v0.1\", cache_dir=\"/work/pi_dhruveshpate_umass_edu/rseetharaman_umass_edu/.cache/\")"
   ]
  },
  {
   "cell_type": "code",
   "execution_count": 6,
   "metadata": {},
   "outputs": [
    {
     "name": "stderr",
     "output_type": "stream",
     "text": [
      "/home/rseetharaman_umass_edu/.conda/envs/rome/lib/python3.9/site-packages/transformers/generation/utils.py:1197: UserWarning: You have modified the pretrained model configuration to control generation. This is a deprecated strategy to control generation and will be removed soon, in a future version. Please use and modify the model generation configuration (see https://huggingface.co/docs/transformers/generation_strategies#default-text-generation-configuration )\n",
      "  warnings.warn(\n",
      "Setting `pad_token_id` to `eos_token_id`:2 for open-end generation.\n"
     ]
    },
    {
     "name": "stdout",
     "output_type": "stream",
     "text": [
      "11 19\n"
     ]
    }
   ],
   "source": [
    "prompt = '''Answer the question solely based on the context.\n",
    "\n",
    "Context:\n",
    "\n",
    "Windows Media Player, a creation of Microsoft, has been a cornerstone in digital media playback since its introduction in 1991. Embedded within the Windows suite, it swiftly gained popularity for its intuitive interface and adaptability, becoming the default choice for numerous Windows users worldwide. Its seamless integration with the Windows ecosystem facilitates easy playback of various media formats, including audio, video, and streaming content.\n",
    "\n",
    "An essential feature of Windows Media Player is its broad compatibility with diverse file formats, ranging from MP3 to WMV and even newer formats like AAC. This versatility ensures smooth playback and a seamless user experience, allowing users to enjoy their multimedia content without worrying about compatibility issues. Furthermore, its robust codec support enables high-definition video playback and immersive audio experiences, enhancing overall entertainment value.\n",
    "\n",
    "Microsoft has continuously updated Windows Media Player to keep pace with technological advancements and user expectations. Each iteration introduces new features and enhancements, such as visualizations, equalizer settings, and playlist management tools, to improve functionality and user satisfaction. These updates ensure that Windows Media Player remains a reliable and feature-rich media playback solution for users across different Windows versions.\n",
    "\n",
    "Despite facing competition from third-party media players and streaming services, Windows Media Player retains its popularity due to its reliability, familiarity, and seamless integration with the Windows operating system. Its enduring appeal lies in its user-friendly interface, robust features, and broad format support, making it a preferred choice for millions seeking a straightforward yet powerful media playback solution.\n",
    "\n",
    "\n",
    "Question:\n",
    "Who is the creator of Windows Media Player ?'''\n",
    "\n",
    "\n",
    "attribute = \"Microsoft\"\n",
    "\n",
    "_, appears_at_top5, appears_at_top1 = get_focus_tokens_to(model, tokenizer, prompt, subject=prompt[-1], attribute=attribute)\n",
    "print(appears_at_top5, appears_at_top1)"
   ]
  },
  {
   "cell_type": "code",
   "execution_count": 13,
   "metadata": {},
   "outputs": [
    {
     "name": "stderr",
     "output_type": "stream",
     "text": [
      "Setting `pad_token_id` to `eos_token_id`:2 for open-end generation.\n"
     ]
    },
    {
     "name": "stdout",
     "output_type": "stream",
     "text": [
      "19 -1\n"
     ]
    }
   ],
   "source": [
    "prompt = '''Answer the question solely based on the context.\n",
    "\n",
    "Context:\n",
    "\n",
    "Wayne Rooney, a name synonymous with English football, has left an indelible mark on the sport both domestically and internationally. Born on October 24, 1985, in Liverpool, England, Rooney showed promise from a young age, quickly rising through the ranks to become one of the most recognized footballers of his generation. His journey began with Everton FC, where his exceptional talent caught the eye of scouts and fans alike. \n",
    "\n",
    "Professionally, Wayne Rooney's career has been nothing short of illustrious. With an unparalleled work ethic and a knack for scoring crucial goals, he has graced the pitches of top-tier clubs, including Manchester United and D.C. United. Rooney's tenure at Manchester United, where he spent the majority of his club career, saw him become the club's all-time leading goal scorer, surpassing legends such as Bobby Charlton. His contributions were instrumental in securing numerous trophies, including Premier League titles and the UEFA Champions League.\n",
    "\n",
    "Beyond his club exploits, Wayne Rooney's impact extends to the international stage. Representing England, he earned over a century of caps, making him one of the most capped players in the nation's history. Rooney's performances in major tournaments, such as the FIFA World Cup and the UEFA European Championship, showcased his versatility, leadership, and unparalleled skill on the field. Despite the challenges faced by the England team during his era, Rooney's passion and commitment never wavered, earning him the admiration of fans worldwide.\n",
    "\n",
    "Off the field, Wayne Rooney's influence transcends the boundaries of the sport. As a role model and ambassador, he has used his platform to champion charitable causes and support initiatives aimed at enhancing the lives of others. Rooney's dedication to philanthropy underscores his belief in giving back to the community and using his status for the greater good. Whether on the pitch or off it, Wayne Rooney continues to inspire generations of football enthusiasts, leaving an enduring legacy that extends far beyond the realm of sports.\n",
    "\n",
    "Question:\n",
    "What sport does Rooney play professionally ?'''\n",
    "\n",
    "\n",
    "subject = \"Rooney\"\n",
    "attribute = \"football\"\n",
    "\n",
    "_, appears_at_top5, appears_at_top1 = get_focus_tokens(model, tokenizer, prompt, subject=prompt[-1], attribute=attribute)\n",
    "print(appears_at_top5, appears_at_top1)"
   ]
  },
  {
   "cell_type": "code",
   "execution_count": 14,
   "metadata": {},
   "outputs": [
    {
     "name": "stderr",
     "output_type": "stream",
     "text": [
      "Setting `pad_token_id` to `eos_token_id`:2 for open-end generation.\n"
     ]
    },
    {
     "name": "stdout",
     "output_type": "stream",
     "text": [
      "16 -1\n"
     ]
    }
   ],
   "source": [
    "prompt = '''Answer the question solely based on the context.\n",
    "\n",
    "Context:\n",
    "\n",
    "At CAC, students benefit from a comprehensive educational experience that emphasizes critical thinking, creativity, and collaboration. The school's dedicated faculty members are passionate about inspiring a love for learning and nurturing the unique talents of each student. With small class sizes and personalized attention, CAC ensures that every student receives the support they need to thrive academically and personally.\n",
    "\n",
    "Beyond academics, CAC offers a wide range of extracurricular activities and programs that enrich students' educational journey. From athletics and performing arts to community service and leadership opportunities, students have ample opportunities to explore their interests, develop new skills, and forge lifelong friendships with peers from around the world.\n",
    "\n",
    "Cairo American College (CAC) stands as a beacon of academic excellence and cultural diversity in Egypt's capital city. Established in 1945, CAC has a rich history of providing a rigorous American curriculum to students from diverse backgrounds, fostering a vibrant learning community that prepares students for success in a globalized world.\n",
    "\n",
    "CAC's commitment to fostering a diverse and inclusive community is evident in its student body, which comprises individuals from over 60 nationalities. This rich tapestry of cultures, languages, and perspectives creates a dynamic learning environment where students learn to appreciate and respect differences while celebrating the shared values that unite them as global citizens.\n",
    "\n",
    "As a leading international school in Cairo, CAC continues to uphold its mission of empowering students to become compassionate, lifelong learners who make positive contributions to society. With a steadfast dedication to excellence and a forward-thinking approach to education, CAC remains at the forefront of preparing the leaders of tomorrow for the challenges and opportunities of an ever-changing world.\n",
    "\n",
    "Question:\n",
    "Cairo American College is located in the country of ?'''\n",
    "\n",
    "\n",
    "subject = \"CairoAmericanCollege\"\n",
    "attribute = \"Egypt\"\n",
    "\n",
    "_, appears_at_top5, appears_at_top1 = get_focus_tokens(model, tokenizer, prompt, subject=prompt[-1], attribute=attribute)\n",
    "print(appears_at_top5, appears_at_top1)"
   ]
  },
  {
   "cell_type": "code",
   "execution_count": 15,
   "metadata": {},
   "outputs": [
    {
     "name": "stderr",
     "output_type": "stream",
     "text": [
      "Setting `pad_token_id` to `eos_token_id`:2 for open-end generation.\n"
     ]
    },
    {
     "name": "stdout",
     "output_type": "stream",
     "text": [
      "12 -1\n"
     ]
    }
   ],
   "source": [
    "prompt = '''Answer the question solely based on the context.\n",
    "\n",
    "Context:\n",
    "\n",
    "The attack on Charlie Hebdo sparked global outrage and ignited debates surrounding the boundaries of free speech, religious sensitivities, and the role of satire in society. Many defended the magazine's right to express opinions and criticize without fear of violent reprisal, while others called for more sensitivity in the portrayal of religious figures and beliefs. The hashtag #JeSuisCharlie (\"I am Charlie\") became a rallying cry for supporters worldwide, expressing solidarity with the magazine's staff and the principles of free speech.\n",
    "\n",
    "In the aftermath of the attack, Charlie Hebdo continued its publication, undeterred by the violence. The surviving staff members, despite mourning the loss of their colleagues, remained resolute in their commitment to freedom of expression. The magazine's covers became even more poignant, with powerful messages condemning extremism and advocating for liberty. Charlie Hebdo's defiance in the face of tragedy became a symbol of resilience and a testament to the enduring importance of free speech in democratic societies.\n",
    "\n",
    "Charlie Hebdo, a French satirical magazine founded in 1970, has been a significant emblem of free speech and political satire. The publication gained international attention, particularly after the tragic events of January 7, 2015. On that day, two gunmen stormed the magazine's office in Paris, killing twelve people and injuring eleven others. The attack was a brutal assault on freedom of expression, as Charlie Hebdo had been known for its provocative cartoons, often lampooning political figures, religions, and ideologies without restraint.\n",
    "\n",
    "However, the Charlie Hebdo attack also raised questions about security, censorship, and the responsibilities of media outlets. Some argued for increased protection for journalists and artists who risk their lives to uphold free speech, while others cautioned against the potential consequences of inflammatory rhetoric and imagery. The debate over balancing freedom of expression with respect for cultural and religious sensitivities continues to be a complex and contentious issue, with no easy solutions.\n",
    "\n",
    "Despite the challenges and controversies it has faced, Charlie Hebdo remains an influential voice in the realm of political satire and a steadfast defender of free speech. The magazine's fearless approach to challenging authority and confronting taboos has left an indelible mark on the media landscape, reminding us of the power—and the peril—of speaking truth to power. Charlie Hebdo's legacy serves as a reminder of the ongoing struggle to uphold democratic values and protect the fundamental right to express dissenting opinions, even in the face of adversity.\n",
    "\n",
    "Question:\n",
    "Charlie Hebdo is written in which language ?'''\n",
    "\n",
    "\n",
    "subject = \"CharlieHebdo\"\n",
    "attribute = \"French\"\n",
    "\n",
    "_, appears_at_top5, appears_at_top1 = get_focus_tokens(model, tokenizer, prompt, subject=prompt[-1], attribute=attribute)\n",
    "print(appears_at_top5, appears_at_top1)"
   ]
  },
  {
   "cell_type": "code",
   "execution_count": 16,
   "metadata": {},
   "outputs": [
    {
     "name": "stderr",
     "output_type": "stream",
     "text": [
      "Setting `pad_token_id` to `eos_token_id`:2 for open-end generation.\n"
     ]
    },
    {
     "name": "stdout",
     "output_type": "stream",
     "text": [
      "16 -1\n"
     ]
    }
   ],
   "source": [
    "prompt = '''Answer the question solely based on the context.\n",
    "\n",
    "Context:\n",
    "\n",
    "Jeremy Paxman is a prominent British journalist, author, and broadcaster, renowned for his incisive interviewing style and sharp wit. Born on May 11, 1950, in Leeds, England, Paxman developed a keen interest in journalism during his formative years. He pursued his education at Cambridge University, where he was actively involved in student journalism, foreshadowing his future career path. Paxman's career took flight when he joined the BBC in the 1970s, marking the beginning of a long and influential tenure with the renowned broadcasting corporation.\n",
    "\n",
    "One of Paxman's most notable contributions to journalism is his iconic role as the anchor of BBC's flagship news program, \"Newsnight.\" Paxman's tenure on \"Newsnight,\" spanning over two decades, solidified his reputation as one of Britain's foremost political interviewers. His confrontational interviewing style, characterized by relentless questioning and persistent probing, earned him both acclaim and criticism. Paxman's interviews were marked by his ability to hold politicians and public figures to account, often drawing out candid responses and revealing insights into their character and policies.\n",
    "\n",
    "Beyond his role on \"Newsnight,\" Paxman has authored several books exploring various aspects of British history, politics, and society. His works, including \"The English: A Portrait of a People\" and \"Empire: What Ruling the World Did to the British,\" reflect his deep intellectual curiosity and passion for understanding the complexities of his homeland's past and present. Paxman's writing style mirrors his on-screen persona—direct, insightful, and occasionally acerbic, yet always engaging.\n",
    "\n",
    "In addition to his journalistic endeavors, Paxman's influence extends to the realm of academia, where he has served as a visiting fellow and lecturer at prestigious institutions such as Oxford and Harvard. His insights into politics and media have made him a sought-after commentator and speaker on both sides of the Atlantic. Paxman's ability to navigate the intersection of journalism, academia, and public discourse underscores his versatility and enduring relevance in an ever-evolving media landscape.\n",
    "\n",
    "Despite his retirement from \"Newsnight\" in 2014, Jeremy Paxman's impact on British journalism and public discourse remains profound. His legacy as a fearless interviewer, insightful commentator, and astute chronicler of British society endures, serving as an inspiration to aspiring journalists and commentators around the world. Whether grilling politicians on live television or delving into the pages of history, Paxman's indelible imprint on British media ensures that his influence will be felt for generations to come.\n",
    "\n",
    "Question:\n",
    "Jeremy Paxman is employed by the ?'''\n",
    "\n",
    "\n",
    "subject = \"JeremyPaxman\"\n",
    "attribute = \"BBC\"\n",
    "\n",
    "_, appears_at_top5, appears_at_top1 = get_focus_tokens(model, tokenizer, prompt, subject=prompt[-1], attribute=attribute)\n",
    "print(appears_at_top5, appears_at_top1)"
   ]
  },
  {
   "cell_type": "code",
   "execution_count": 17,
   "metadata": {},
   "outputs": [
    {
     "name": "stderr",
     "output_type": "stream",
     "text": [
      "Setting `pad_token_id` to `eos_token_id`:2 for open-end generation.\n"
     ]
    },
    {
     "name": "stdout",
     "output_type": "stream",
     "text": [
      "15 -1\n"
     ]
    }
   ],
   "source": [
    "prompt = '''Answer the question solely based on the context.\n",
    "\n",
    "Context:\n",
    "\n",
    "Georges Ernest Boulanger, a charismatic and enigmatic figure of French history, emerged as a prominent military leader and political figure during the late 19th century. Born in Rennes, France, in 1837, Boulanger embarked on a military career that would shape his trajectory and cement his place in the annals of French politics. His career took a significant turn when he assumed command in Paris, a city that would become the focal point of his ambitions and controversies.\n",
    "\n",
    "Working in Paris proved to be a pivotal phase in Boulanger's life and career. As a military officer stationed in the heart of the French capital, he became deeply entrenched in the political landscape of the time. Paris, with its rich history and vibrant intellectual environment, provided Boulanger with a platform to engage with influential figures and shape his own political aspirations. It was here that he began to cultivate a populist appeal, capturing the imagination of the masses with his bold rhetoric and promises of political reform.\n",
    "\n",
    "Boulanger's tenure in Paris coincided with a period of political upheaval and social unrest in France. The country was grappling with economic challenges, social inequality, and a sense of disillusionment with the ruling elite. In this volatile atmosphere, Boulanger's message of nationalism and anti-establishment sentiment resonated deeply with many disillusioned citizens. His charisma and military background lent him an aura of authority and authenticity that appealed to those disillusioned with traditional politicians.\n",
    "\n",
    "Despite his military background, Boulanger's ambitions extended beyond the confines of the army. He entered the political arena with fervor, positioning himself as a champion of the people against the entrenched powers of the establishment. His popularity soared, and he quickly amassed a devoted following, known as the Boulangerists, who hailed him as a savior of the nation. However, his meteoric rise to prominence also attracted the attention of his adversaries, who viewed him as a threat to the stability of the republic.\n",
    "\n",
    "Ultimately, Boulanger's political career was marked by both triumph and tragedy. While he succeeded in galvanizing popular support and challenging the status quo, his ambitions ultimately led to his downfall. Accused of plotting a coup against the government, he was forced into exile, ending his tumultuous journey from the military barracks of Paris to the heights of political power and, ultimately, ignominy. Yet, his legacy endures as a symbol of the complexities and contradictions of French politics during a pivotal period in its history.\n",
    "\n",
    "Question:\n",
    "Georges Ernest Boulanger worked in the city of ?'''\n",
    "\n",
    "\n",
    "subject = \"GeorgesErnestBoulanger\"\n",
    "attribute = \"Paris\"\n",
    "\n",
    "_, appears_at_top5, appears_at_top1 = get_focus_tokens(model, tokenizer, prompt, subject=prompt[-1], attribute=attribute)\n",
    "print(appears_at_top5, appears_at_top1)"
   ]
  },
  {
   "cell_type": "code",
   "execution_count": 18,
   "metadata": {},
   "outputs": [
    {
     "name": "stderr",
     "output_type": "stream",
     "text": [
      "Setting `pad_token_id` to `eos_token_id`:2 for open-end generation.\n"
     ]
    },
    {
     "name": "stdout",
     "output_type": "stream",
     "text": [
      "16 -1\n"
     ]
    }
   ],
   "source": [
    "prompt = '''Answer the question solely based on the context.\n",
    "\n",
    "Context:\n",
    "\n",
    "Jeremy Paxman is a prominent British journalist, author, and broadcaster, renowned for his incisive interviewing style and sharp wit. Born on May 11, 1950, in Leeds, England, Paxman developed a keen interest in journalism during his formative years. He pursued his education at Cambridge University, where he was actively involved in student journalism, foreshadowing his future career path. Paxman's career took flight when he joined the BBC in the 1970s, marking the beginning of a long and influential tenure with the renowned broadcasting corporation.\n",
    "\n",
    "One of Paxman's most notable contributions to journalism is his iconic role as the anchor of BBC's flagship news program, \"Newsnight.\" Paxman's tenure on \"Newsnight,\" spanning over two decades, solidified his reputation as one of Britain's foremost political interviewers. His confrontational interviewing style, characterized by relentless questioning and persistent probing, earned him both acclaim and criticism. Paxman's interviews were marked by his ability to hold politicians and public figures to account, often drawing out candid responses and revealing insights into their character and policies.\n",
    "\n",
    "Beyond his role on \"Newsnight,\" Paxman has authored several books exploring various aspects of British history, politics, and society. His works, including \"The English: A Portrait of a People\" and \"Empire: What Ruling the World Did to the British,\" reflect his deep intellectual curiosity and passion for understanding the complexities of his homeland's past and present. Paxman's writing style mirrors his on-screen persona—direct, insightful, and occasionally acerbic, yet always engaging.\n",
    "\n",
    "In addition to his journalistic endeavors, Paxman's influence extends to the realm of academia, where he has served as a visiting fellow and lecturer at prestigious institutions such as Oxford and Harvard. His insights into politics and media have made him a sought-after commentator and speaker on both sides of the Atlantic. Paxman's ability to navigate the intersection of journalism, academia, and public discourse underscores his versatility and enduring relevance in an ever-evolving media landscape.\n",
    "\n",
    "Despite his retirement from \"Newsnight\" in 2014, Jeremy Paxman's impact on British journalism and public discourse remains profound. His legacy as a fearless interviewer, insightful commentator, and astute chronicler of British society endures, serving as an inspiration to aspiring journalists and commentators around the world. Whether grilling politicians on live television or delving into the pages of history, Paxman's indelible imprint on British media ensures that his influence will be felt for generations to come.\n",
    "\n",
    "Question:\n",
    "Jeremy Paxman is employed by the ?'''\n",
    "\n",
    "\n",
    "subject = \"employed\"\n",
    "attribute = \"BBC\"\n",
    "\n",
    "_, appears_at_top5, appears_at_top1 = get_focus_tokens(model, tokenizer, prompt, subject=prompt[-1], attribute=attribute)\n",
    "print(appears_at_top5, appears_at_top1)"
   ]
  },
  {
   "cell_type": "code",
   "execution_count": 19,
   "metadata": {},
   "outputs": [
    {
     "name": "stderr",
     "output_type": "stream",
     "text": [
      "Setting `pad_token_id` to `eos_token_id`:2 for open-end generation.\n"
     ]
    },
    {
     "name": "stdout",
     "output_type": "stream",
     "text": [
      "15 -1\n"
     ]
    }
   ],
   "source": [
    "prompt = '''Answer the question solely based on the context.\n",
    "\n",
    "Context:\n",
    "\n",
    "Georges Ernest Boulanger, a charismatic and enigmatic figure of French history, emerged as a prominent military leader and political figure during the late 19th century. Born in Rennes, France, in 1837, Boulanger embarked on a military career that would shape his trajectory and cement his place in the annals of French politics. His career took a significant turn when he assumed command in Paris, a city that would become the focal point of his ambitions and controversies.\n",
    "\n",
    "Working in Paris proved to be a pivotal phase in Boulanger's life and career. As a military officer stationed in the heart of the French capital, he became deeply entrenched in the political landscape of the time. Paris, with its rich history and vibrant intellectual environment, provided Boulanger with a platform to engage with influential figures and shape his own political aspirations. It was here that he began to cultivate a populist appeal, capturing the imagination of the masses with his bold rhetoric and promises of political reform.\n",
    "\n",
    "Boulanger's tenure in Paris coincided with a period of political upheaval and social unrest in France. The country was grappling with economic challenges, social inequality, and a sense of disillusionment with the ruling elite. In this volatile atmosphere, Boulanger's message of nationalism and anti-establishment sentiment resonated deeply with many disillusioned citizens. His charisma and military background lent him an aura of authority and authenticity that appealed to those disillusioned with traditional politicians.\n",
    "\n",
    "Despite his military background, Boulanger's ambitions extended beyond the confines of the army. He entered the political arena with fervor, positioning himself as a champion of the people against the entrenched powers of the establishment. His popularity soared, and he quickly amassed a devoted following, known as the Boulangerists, who hailed him as a savior of the nation. However, his meteoric rise to prominence also attracted the attention of his adversaries, who viewed him as a threat to the stability of the republic.\n",
    "\n",
    "Ultimately, Boulanger's political career was marked by both triumph and tragedy. While he succeeded in galvanizing popular support and challenging the status quo, his ambitions ultimately led to his downfall. Accused of plotting a coup against the government, he was forced into exile, ending his tumultuous journey from the military barracks of Paris to the heights of political power and, ultimately, ignominy. Yet, his legacy endures as a symbol of the complexities and contradictions of French politics during a pivotal period in its history.\n",
    "\n",
    "Question:\n",
    "Georges Ernest Boulanger worked in the city of ?'''\n",
    "\n",
    "\n",
    "subject = \"city\"\n",
    "attribute = \"Paris\"\n",
    "\n",
    "_, appears_at_top5, appears_at_top1 = get_focus_tokens(model, tokenizer, prompt, subject=prompt[-1], attribute=attribute)\n",
    "print(appears_at_top5, appears_at_top1)"
   ]
  },
  {
   "cell_type": "code",
   "execution_count": 20,
   "metadata": {},
   "outputs": [
    {
     "name": "stderr",
     "output_type": "stream",
     "text": [
      "Setting `pad_token_id` to `eos_token_id`:2 for open-end generation.\n"
     ]
    },
    {
     "name": "stdout",
     "output_type": "stream",
     "text": [
      "11 19\n"
     ]
    }
   ],
   "source": [
    "prompt = '''Answer the question solely based on the context.\n",
    "\n",
    "Context:\n",
    "\n",
    "Windows Media Player, a creation of Microsoft, has been a cornerstone in digital media playback since its introduction in 1991. Embedded within the Windows suite, it swiftly gained popularity for its intuitive interface and adaptability, becoming the default choice for numerous Windows users worldwide. Its seamless integration with the Windows ecosystem facilitates easy playback of various media formats, including audio, video, and streaming content.\n",
    "\n",
    "An essential feature of Windows Media Player is its broad compatibility with diverse file formats, ranging from MP3 to WMV and even newer formats like AAC. This versatility ensures smooth playback and a seamless user experience, allowing users to enjoy their multimedia content without worrying about compatibility issues. Furthermore, its robust codec support enables high-definition video playback and immersive audio experiences, enhancing overall entertainment value.\n",
    "\n",
    "Microsoft has continuously updated Windows Media Player to keep pace with technological advancements and user expectations. Each iteration introduces new features and enhancements, such as visualizations, equalizer settings, and playlist management tools, to improve functionality and user satisfaction. These updates ensure that Windows Media Player remains a reliable and feature-rich media playback solution for users across different Windows versions.\n",
    "\n",
    "Despite facing competition from third-party media players and streaming services, Windows Media Player retains its popularity due to its reliability, familiarity, and seamless integration with the Windows operating system. Its enduring appeal lies in its user-friendly interface, robust features, and broad format support, making it a preferred choice for millions seeking a straightforward yet powerful media playback solution.\n",
    "\n",
    "\n",
    "Question:\n",
    "Who is the creator of Windows Media Player ?'''\n",
    "\n",
    "subject = \"?\"\n",
    "attribute = \"Microsoft\"\n",
    "\n",
    "\n",
    "_, appears_at_top5, appears_at_top1 = get_focus_tokens(model, tokenizer, prompt, subject=prompt[-1], attribute=attribute)\n",
    "print(appears_at_top5, appears_at_top1)"
   ]
  },
  {
   "cell_type": "code",
   "execution_count": null,
   "metadata": {},
   "outputs": [],
   "source": []
  }
 ],
 "metadata": {
  "kernelspec": {
   "display_name": "Python 3",
   "language": "python",
   "name": "python3"
  },
  "language_info": {
   "codemirror_mode": {
    "name": "ipython",
    "version": 3
   },
   "file_extension": ".py",
   "mimetype": "text/x-python",
   "name": "python",
   "nbconvert_exporter": "python",
   "pygments_lexer": "ipython3",
   "version": "3.9.19"
  }
 },
 "nbformat": 4,
 "nbformat_minor": 2
}
