{
 "cells": [
  {
   "cell_type": "code",
   "execution_count": 90,
   "metadata": {},
   "outputs": [],
   "source": [
    "!pip install --quiet langchain openai wikipedia python-dotenv tiktoken"
   ]
  },
  {
   "cell_type": "code",
   "execution_count": 70,
   "metadata": {},
   "outputs": [],
   "source": [
    "import os\n",
    "from langchain.docstore.wikipedia import Wikipedia\n",
    "from langchain.llms import OpenAI\n",
    "from langchain.agents import initialize_agent, Tool, AgentExecutor\n",
    "from langchain.agents.react.base import DocstoreExplorer\n",
    "from dotenv import load_dotenv\n",
    "from langchain.chains import LLMChain\n",
    "from langchain.prompts import PromptTemplate\n",
    "from langchain.agents import initialize_agent\n",
    "from langchain.agents import AgentType\n",
    "from langchain.agents import load_tools\n",
    "from langchain import FewShotPromptTemplate\n",
    "from langchain.tools import WikipediaQueryRun\n",
    "from langchain.chat_models import ChatOpenAI\n",
    "from langchain_community.utilities import WikipediaAPIWrapper\n",
    "import tiktoken"
   ]
  },
  {
   "cell_type": "code",
   "execution_count": 48,
   "metadata": {},
   "outputs": [],
   "source": [
    "import os\n",
    "\n",
    "load_dotenv()\n",
    "\n",
    "#Loading models\n",
    "gpt3 = OpenAI(api_key = os.environ[\"OPENAI_API_KEY\"], model=\"gpt-3.5-turbo-instruct\")\n",
    "gpt4 = ChatOpenAI(api_key = os.environ[\"OPENAI_API_KEY\"], model=\"gpt-4\")"
   ]
  },
  {
   "cell_type": "markdown",
   "metadata": {},
   "source": [
    "# Wikipedia search and GPT as Summariser\n"
   ]
  },
  {
   "cell_type": "code",
   "execution_count": 63,
   "metadata": {},
   "outputs": [],
   "source": [
    "#Making wikipedia object which takes a topic and returns wikipedia data. return doc_content_chars_max characters.\n",
    "wikipedia = WikipediaQueryRun(api_wrapper=WikipediaAPIWrapper(doc_content_chars_max = 2000))"
   ]
  },
  {
   "cell_type": "code",
   "execution_count": 16,
   "metadata": {},
   "outputs": [
    {
     "data": {
      "text/plain": [
       "'Page: Hunter × Hunter\\nSummary: Hunter × Hunter (stylized as HUNTER×HUNTER and pronounced \"hunter hunter\") is a Japanese manga series written and illustrated by Yoshihiro Togashi. It has been serialized in Shueisha\\'s shōnen manga magazine Weekly Shōnen Jump since March 1998, although the manga has frequently gone on extended hiatuses since 2006. Its chapters have been collected in 37 tankōbon volumes as of November 2022. The story focuses on a young boy named Gon Freecss who discovers that his father, who left him at a young age, is actually a world-renowned Hunter, a licensed professional who specializes in fantastical pursuits such as locating rare or unidentified animal species, treasure hunting, surveying unexplored enclaves, or hunting down lawless individuals. Gon departs on a journey to become a Hunter and eventually find his father. Along the way, Gon meets various other Hunters and encounters the paranormal.\\nHunter × Hunter was adapted into a 62-episode anime television series by Nippon Animation and directed by Kazuhiro Furuhashi, which ran on Fuji Television from October 1999 to March 2001. Three separate original video animations (OVAs) totaling 30 episodes were subsequently produced by Nippon Animation and released in Japan from 2002 to 2004. A second anime television series by Madhouse aired on Nippon Television from October 2011 to September 2014, totaling 148 episodes, with two animated theatrical films released in 2013. There are also numerous audio albums, video games, musicals, and other media based on Hunter × Hunter.\\nThe manga has been licensed for English release in North America by Viz Media since April 2005. Both television series have been also licensed by Viz Media, with the first series having aired on the Funimation Channel in 2009 and the second series broadcast on Adult Swim\\'s Toonami programming block from April 2016 to June 2019.\\nHunter × Hunter has been a huge critical and financial success and has become one of the best-selling manga'"
      ]
     },
     "execution_count": 16,
     "metadata": {},
     "output_type": "execute_result"
    }
   ],
   "source": [
    "wikipedia.run(\"HUNTER X HUNTER\")"
   ]
  },
  {
   "cell_type": "code",
   "execution_count": 66,
   "metadata": {},
   "outputs": [],
   "source": [
    "#Creating a template giving the task, example of output format, and what the input will look like\n",
    "template = \"\"\"You are a assitant great at summarising stuff. \n",
    "\n",
    "\n",
    "            You will be given a Wikipedia snippet about a subject and also the subject separately. \n",
    "            Your task is to summarise it into 3 short sentences revloving around the subject. Do not have information in the summary which is not related to subject. Only use the knoweldge in the context and not add anything.\n",
    "            Do not return anything except the 3 sentances and do not return more than 3 sentences. The sentences should be separated by full stops '.' and not NEW LINE CHARACTERS. No bullet points too.\n",
    "            \n",
    "            Here are some examples of what output should look like.\n",
    "\n",
    "            Summary: 'Sun is a part of Solar System. Earth revolves around the sun. Sun will covered by the moon on April 8, 2024.'\n",
    "\n",
    "\n",
    "            Subject: {subject}\n",
    "            \n",
    "            Context: {context}\n",
    "\n",
    "            Summary: \"\"\""
   ]
  },
  {
   "cell_type": "code",
   "execution_count": 67,
   "metadata": {},
   "outputs": [],
   "source": [
    "#Creates a PromptTemplateObject through which we can pass required subject and the context\n",
    "prompt_template = PromptTemplate(template=template, input_variables=[\"subject\", \"context\"])"
   ]
  },
  {
   "cell_type": "code",
   "execution_count": 43,
   "metadata": {},
   "outputs": [
    {
     "name": "stdout",
     "output_type": "stream",
     "text": [
      "You are a assitant great at summarising stuff. \n",
      "\n",
      "            You will be given a Wikipedia snippet about a subject and also the subject separately. \n",
      "            Your task is to summarise it into 3 short sentences. Only use the knoweldge in the context and not add anything.\n",
      "            Do not return anything except the 3 sentances. The sentences should be separated by full stops '.' and not NEW LINE CHARACTERS. No bullet points too.\n",
      "            \n",
      "            Here are some examples of what output should look like.\n",
      "\n",
      "            Summary: 'Sun is a part of Solar System. Earth revolves around the sun. Sun will covered by the moon on April 8, 2024.'\n",
      "\n",
      "\n",
      "            Subject: Hunter X Hunter\n",
      "            \n",
      "            Context: Page: Hunter × Hunter\n",
      "Summary: Hunter × Hunter (stylized as HUNTER×HUNTER and pronounced \"hunter hunter\") is a Japanese manga series written and illustrated by Yoshihiro Togashi. It has been serialized in Shueisha's shōnen manga magazine Weekly Shōnen Jump since March 1998, although the manga has frequently gone on extended hiatuses since 2006. Its chapters have been collected in 37 tankōbon volumes as of November 2022. The story focuses on a young boy named Gon Freecss who discovers that his father, who left him at a young age, is actually a world-renowned Hunter, a licensed professional who specializes in fantastical pursuits such as locating rare or unidentified animal species, treasure hunting, surveying unexplored enclaves, or hunting down lawless individuals. Gon departs on a journey to become a Hunter and eventually find his father. Along the way, Gon meets various other Hunters and encounters the paranormal.\n",
      "Hunter × Hunter was adapted into a 62-episode anime television series by Nippon Animation and directed by Kazuhiro Furuhashi, which ran on Fuji Television from October 1999 to March 2001. Three separate original video animations (OVAs) totaling 30 episodes were subsequently produced by Nippon Animation and released in Japan from 2002 to 2004. A second anime television series by Madhouse aired on Nippon Television from October 2011 to September 2014, totaling 148 episodes, with two animated theatrical films released in 2013. There are also numerous audio albums, video games, musicals, and other media based on Hunter × Hunter.\n",
      "The manga has been licensed for English release in North America by Viz Media since April 2005. Both television series have been also licensed by Viz Media, with the first series having aired on the Funimation Channel in 2009 and the second series broadcast on Adult Swim's Toonami programming block from April 2016 to June 2019.\n",
      "Hunter × Hunter has been a huge critical and financial success and has become one of the best-selling manga series of all time, having over 84 million copies in circulation by July 2022.\n",
      "\n",
      "Page: Hunter × Hunter (2011 TV series)\n",
      "Summary: Hunter × Hunter is an anime television series that aired from 2011 to 2014 based on Yoshihiro Togashi's manga series Hunter × Hunter. The story begins with a young boy named Gon Freecss, who one day discovers that the father who he thought was dead, is in fact alive and well. He learns that his father, Ging, is a legendary \"Hunter\", an individual who has proven themselves an elite member of humanity. Despite the fact that Ging left his son with his relatives in order to pursue his own dreams, Gon becomes determined to follow in his father's footsteps, pass the rigorous \"Hunter Examination\", and eventually find his father to become a Hunter in his own right.\n",
      "This new Hunter × Hunter anime was announced on July 24, 2011. It is a complete reboot starting from the beginning of the original manga, with no connection to the first anime television series from 1999. Produced by Nippon TV, VAP, Shueisha and Madhouse, the series is directed by Hiroshi Kōjina, with Atsushi Maekawa and Tsutomu Kamishiro handling series composition, Takahiro Yoshimatsu designing the characters and Yoshihisa Hirano composing the music. Instead of having the old cast reprise their roles for the new adaptation, the series features an entirely new cast to voice the characters. The new series premiered airing weekly on Nippon TV and the nationwide Nippon News Network from October 2, 2011.  The series started to be collected in both DVD and Blu-ray format on January 25, 2012. Viz Media has licensed the anime for a DVD/Blu-ray release in North America with an English dub. On television, the series began airing on Adult Swim's Toonami programming block on April 17, 2016, and ended on June 23, 2019.The anime series' opening theme is alternated between the song \"Departure!\" and an alternate version titled \"Departure! -Second Version-\" both sung by Galneryus' vocalist Masatoshi O\n",
      "\n",
      "            Summary: \n"
     ]
    }
   ],
   "source": [
    "#Example of how a complete prompt looks like\n",
    "print(prompt_template.format(subject = \"Hunter X Hunter\", context = wikipedia.run(\"HUNTER X HUNTER\")))"
   ]
  },
  {
   "cell_type": "code",
   "execution_count": 76,
   "metadata": {},
   "outputs": [
    {
     "name": "stdout",
     "output_type": "stream",
     "text": [
      "content=\"'Charlie Hebdo is a French satirical weekly magazine known for its anti-racist, secular, and libertarian stances. The magazine has been targeted in three terrorist attacks in 2011, 2015, and 2020, in response to its controversial cartoons depicting Muhammad. Charlie Hebdo first appeared in 1970, was briefly ceased in 1981, and resurrected in 1992, with Gérard Biard currently serving as the editor-in-chief.'\"\n"
     ]
    }
   ],
   "source": [
    "#GPT-4 output using gpt4.invoke\n",
    "print(gpt4.invoke(prompt_template.format(subject = \"Charlie Hebdo\", context = wikipedia.run(\"Charlie Hebdo\"))))"
   ]
  },
  {
   "cell_type": "code",
   "execution_count": 68,
   "metadata": {},
   "outputs": [
    {
     "name": "stdout",
     "output_type": "stream",
     "text": [
      "\n",
      "Cabinet is a file format used in Microsoft Windows for archiving and compressing data. It is recognized by its .cab extension and magic number MSCF. ES File Explorer is a popular file manager application for Android devices, known for its cloud storage integration and root browser feature.\n"
     ]
    }
   ],
   "source": [
    "#gpt 3 output\n",
    "print(gpt3(prompt_template.format(subject = \"File Explorer\", context = wikipedia.run(\"File Explorer\"))))"
   ]
  },
  {
   "cell_type": "code",
   "execution_count": 73,
   "metadata": {},
   "outputs": [
    {
     "data": {
      "text/plain": [
       "'You are a assitant great at summarising stuff. \\n\\n            You will be given a Wikipedia snippet about a subject and also the subject separately. \\n            Your task is to summarise it into 3 short sentences revloving around the subject. Do not have information in the summary which is not related to subject. Only use the knoweldge in the context and not add anything.\\n            Do not return anything except the 3 sentances and do not return more than 3 sentences. The sentences should be separated by full stops \\'.\\' and not NEW LINE CHARACTERS. No bullet points too.\\n            \\n            Here are some examples of what output should look like.\\n\\n            Summary: \\'Sun is a part of Solar System. Earth revolves around the sun. Sun will covered by the moon on April 8, 2024.\\'\\n\\n\\n            Subject: File Explorer\\n            \\n            Context: Page: File Explorer\\nSummary: File Explorer, previously known as Windows Explorer, is a file manager application and default desktop environment that is included with releases of the Microsoft Windows operating system from Windows 95 onwards. It provides a graphical user interface for accessing the file systems, as well as user interface elements such as the taskbar and desktop. \\nThe application was renamed from \"Windows Explorer\" to \"File Explorer\" in Windows 8; however, the old name of \"Windows Explorer\" can still be seen in the Windows Task Manager.\\n\\nPage: ES File Explorer\\nSummary: ES File Explorer is a file manager/explorer designed by ES Global, a subsidiary of DO Global, for Android devices. It includes features like cloud storage integration, file transfer from Android to Windows via FTP or LAN, and a root browser. It was removed from the Google Play Store for committing click fraud.\\n\\nPage: Cabinet (file format)\\nSummary: Cabinet (or CAB) is an archive-file format for Microsoft Windows that supports lossless data compression and embedded digital certificates used for maintaining archive integrity. Cabinet files have .cab filename extensions and are recognized by their first four bytes (also called their magic number) MSCF. Cabinet files were known originally as Diamond files.\\n\\n            Summary: '"
      ]
     },
     "execution_count": 73,
     "metadata": {},
     "output_type": "execute_result"
    }
   ],
   "source": [
    "#Used to check prompt length\n",
    "enc = tiktoken.encoding_for_model(\"gpt-3.5-turbo-instruct\")\n",
    "\n",
    "len(enc.encode(prompt_template.format(subject = \"File Explorer\", context = wikipedia.run(\"File Explorer\"))))"
   ]
  },
  {
   "cell_type": "markdown",
   "metadata": {},
   "source": [
    "# Few Shot Prompt Temlate for GPT context generation"
   ]
  },
  {
   "cell_type": "code",
   "execution_count": 82,
   "metadata": {},
   "outputs": [],
   "source": [
    "#How the examples should look like\n",
    "example_template = \"\"\"\n",
    "\"subject\": {subj},\n",
    "\"context\": {contex}\"\"\""
   ]
  },
  {
   "cell_type": "code",
   "execution_count": 83,
   "metadata": {},
   "outputs": [],
   "source": [
    "#Actual examples that should be passed to model, should match {__} in the example template\n",
    "examples = [{\n",
    "    \"subj\": \"File Explorer\",\n",
    "    \"contex\": 'File Explorer, previously known as Windows Explorer, is a file manager application in Microsoft Windows operating systems. The application allows for a graphical user interface for accessing file systems and other user interface elements. It was renamed from \"Windows Explorer\" to \"File Explorer\" in Windows 8.'\n",
    "},\n",
    "{\"subj\":\"Charlie Hebdo\",\n",
    " \"contex\": \"Charlie Hebdo is a French satirical weekly magazine known for its anti-racist, secular, and libertarian stances. The magazine has been targeted in three terrorist attacks in 2011, 2015, and 2020, in response to its controversial cartoons depicting Muhammad. Charlie Hebdo first appeared in 1970, was briefly ceased in 1981, and resurrected in 1992, with Gérard Biard currently serving as the editor-in-chief.\"},\n",
    " {\n",
    "     \"subj\": \"Andrew Gilligan\",\n",
    "     \"contex\": \"Andrew Paul Gilligan is a British policy adviser and former transport adviser to Boris Johnson. He has served as a senior correspondent of The Sunday Times and head of the Capital City Foundation at Policy Exchange. Gilligan is widely known for his 2003 report on BBC Radio 4's Today programme about the British government's briefing paper on Iraq and weapons of mass destruction.\"\n",
    " }]"
   ]
  },
  {
   "cell_type": "code",
   "execution_count": 84,
   "metadata": {},
   "outputs": [],
   "source": [
    "#Making a example prompt template\n",
    "example_prompt = PromptTemplate(input_variables=[\"subject\", \"context\"], template=example_template)\n",
    "\n",
    "#What should go before examples, i.e. Task\n",
    "prefix = \"\"\"You are a knowledge book which can tell information on things asked. \n",
    "Your task is, given a subject you have to return 3 facts about the subject as context about the subject. You do not return anything else except the context. The sentences should be full stop separated as shown in the examples below.\n",
    "\"\"\"\n",
    "\n",
    "#What should go after examples, i.e. Input\n",
    "suffix = \"\"\"subject: {subject}\n",
    "context: \"\"\""
   ]
  },
  {
   "cell_type": "code",
   "execution_count": 85,
   "metadata": {},
   "outputs": [],
   "source": [
    "#Mixing everything together\n",
    "few_shot_prompt_template = FewShotPromptTemplate(examples = examples,\n",
    "                                       example_prompt=example_prompt,\n",
    "                                       prefix = prefix,\n",
    "                                       suffix = suffix,\n",
    "                                       input_variables = [\"subject\"],\n",
    "                                       example_separator = \"\\n\\n\"\n",
    "                                         )"
   ]
  },
  {
   "cell_type": "code",
   "execution_count": 86,
   "metadata": {},
   "outputs": [
    {
     "name": "stdout",
     "output_type": "stream",
     "text": [
      "You are a knowledge book which can tell information on things asked. \n",
      "Your task is, given a subject you have to return 3 facts about the subject as context about the subject. You do not return anything else except the context. The sentences should be full stop separated as shown in the examples below.\n",
      "\n",
      "\n",
      "\n",
      "\"subject\": File Explorer,\n",
      "\"context\": File Explorer, previously known as Windows Explorer, is a file manager application in Microsoft Windows operating systems. The application allows for a graphical user interface for accessing file systems and other user interface elements. It was renamed from \"Windows Explorer\" to \"File Explorer\" in Windows 8.\n",
      "\n",
      "\n",
      "\"subject\": Charlie Hebdo,\n",
      "\"context\": Charlie Hebdo is a French satirical weekly magazine known for its anti-racist, secular, and libertarian stances. The magazine has been targeted in three terrorist attacks in 2011, 2015, and 2020, in response to its controversial cartoons depicting Muhammad. Charlie Hebdo first appeared in 1970, was briefly ceased in 1981, and resurrected in 1992, with Gérard Biard currently serving as the editor-in-chief.\n",
      "\n",
      "\n",
      "\"subject\": Andrew Gilligan,\n",
      "\"context\": Andrew Paul Gilligan is a British policy adviser and former transport adviser to Boris Johnson. He has served as a senior correspondent of The Sunday Times and head of the Capital City Foundation at Policy Exchange. Gilligan is widely known for his 2003 report on BBC Radio 4's Today programme about the British government's briefing paper on Iraq and weapons of mass destruction.\n",
      "\n",
      "subject: Hunter X Hunter\n",
      "context: \n"
     ]
    }
   ],
   "source": [
    "#Example of a full prompt\n",
    "subject = \"Hunter X Hunter\"\n",
    "\n",
    "print(few_shot_prompt_template.format(subject=subject))"
   ]
  },
  {
   "cell_type": "code",
   "execution_count": 87,
   "metadata": {},
   "outputs": [
    {
     "name": "stdout",
     "output_type": "stream",
     "text": [
      "Hunter X Hunter is a popular Japanese manga series written and illustrated by Yoshihiro Togashi. The series follows the adventures of a young boy named Gon Freecss as he aspires to become a Hunter, a special class of individuals who are tasked with hunting down and capturing rare and elusive creatures. The manga has been adapted into multiple anime series and films, as well as video games and other media.\n"
     ]
    }
   ],
   "source": [
    "print(gpt3(few_shot_prompt_template.format(subject=subject)))"
   ]
  },
  {
   "cell_type": "code",
   "execution_count": 88,
   "metadata": {},
   "outputs": [
    {
     "name": "stdout",
     "output_type": "stream",
     "text": [
      "content='\"Hunter X Hunter\" is a Japanese manga series written and illustrated by Yoshihiro Togashi. The story focuses on a young boy named Gon Freecss, who discovers that his father, who he was told was dead, is actually alive and a world-renowned Hunter, a licensed professional capable of tracking down secret treasures, rare beasts, or even other individuals. It has been adapted into two anime series by Nippon Animation and Madhouse and has also spawned numerous video games and other merchandise.'\n"
     ]
    }
   ],
   "source": [
    "print(gpt4.invoke(few_shot_prompt_template.format(subject=subject)))"
   ]
  },
  {
   "cell_type": "code",
   "execution_count": null,
   "metadata": {},
   "outputs": [],
   "source": []
  }
 ],
 "metadata": {
  "kernelspec": {
   "display_name": "Python 3 (ipykernel)",
   "language": "python",
   "name": "python3"
  },
  "language_info": {
   "codemirror_mode": {
    "name": "ipython",
    "version": 3
   },
   "file_extension": ".py",
   "mimetype": "text/x-python",
   "name": "python",
   "nbconvert_exporter": "python",
   "pygments_lexer": "ipython3",
   "version": "3.9.12"
  }
 },
 "nbformat": 4,
 "nbformat_minor": 2
}
