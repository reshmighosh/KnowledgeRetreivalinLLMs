{
 "cells": [
  {
   "cell_type": "code",
   "execution_count": 4,
   "metadata": {},
   "outputs": [],
   "source": [
    "import json\n",
    "import os"
   ]
  },
  {
   "cell_type": "code",
   "execution_count": 2,
   "metadata": {},
   "outputs": [],
   "source": [
    "original_knowns = json.load(open(\"/work/pi_dhruveshpate_umass_edu/rseetharaman_umass_edu/repo-for-paper/attention-contributions/datasets/known_1000.json\"))"
   ]
  },
  {
   "cell_type": "code",
   "execution_count": 3,
   "metadata": {},
   "outputs": [],
   "source": [
    "subject_mapping = dict()\n",
    "for o in original_knowns:\n",
    "    subject_mapping[o['known_id']] = o['subject']"
   ]
  },
  {
   "cell_type": "code",
   "execution_count": 10,
   "metadata": {},
   "outputs": [],
   "source": [
    "files = os.listdir(\"./datasets\")"
   ]
  },
  {
   "cell_type": "code",
   "execution_count": 11,
   "metadata": {},
   "outputs": [
    {
     "name": "stdout",
     "output_type": "stream",
     "text": [
      "RAG_data_with_object_at_0.json\n",
      "RAG_data_with_object_at_1.json\n",
      "RAG_data_with_object_at_2.json\n",
      "RAG_data_with_object_at_3.json\n",
      "RAG_data_with_object_at_4.json\n",
      "known_1000.json\n",
      "syntetic_counterfact_object_at_0.json\n",
      "syntetic_counterfact_object_at_1.json\n",
      "syntetic_counterfact_object_at_2.json\n",
      "syntetic_counterfact_object_at_3.json\n",
      "syntetic_counterfact_object_at_4.json\n"
     ]
    }
   ],
   "source": [
    "for f in files:\n",
    "    if f == 'knowns_1000.json':\n",
    "        continue\n",
    "    print(f)\n",
    "    data = json.load(open(f\"datasets/{f}\"))\n",
    "    for i,d in enumerate(data):\n",
    "        data[i]['subject'] = subject_mapping[data[i]['known_id']]\n",
    "    json.dump(data, open(f, 'w'))"
   ]
  },
  {
   "cell_type": "code",
   "execution_count": null,
   "metadata": {},
   "outputs": [],
   "source": []
  }
 ],
 "metadata": {
  "kernelspec": {
   "display_name": "Python 3",
   "language": "python",
   "name": "python3"
  },
  "language_info": {
   "codemirror_mode": {
    "name": "ipython",
    "version": 3
   },
   "file_extension": ".py",
   "mimetype": "text/x-python",
   "name": "python",
   "nbconvert_exporter": "python",
   "pygments_lexer": "ipython3",
   "version": "3.9.19"
  }
 },
 "nbformat": 4,
 "nbformat_minor": 2
}
